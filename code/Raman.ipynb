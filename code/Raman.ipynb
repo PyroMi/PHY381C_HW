{
  "cells": [
    {
      "cell_type": "markdown",
      "metadata": {
        "id": "view-in-github",
        "colab_type": "text"
      },
      "source": [
        "<a href=\"https://colab.research.google.com/github/PyroMi/PHY381C_HW/blob/main/code/Raman.ipynb\" target=\"_parent\"><img src=\"https://colab.research.google.com/assets/colab-badge.svg\" alt=\"Open In Colab\"/></a>"
      ]
    },
    {
      "cell_type": "markdown",
      "metadata": {
        "id": "gpKX9R454aq9"
      },
      "source": [
        "# Simulate Raman Spectra using **Pyscf** package"
      ]
    },
    {
      "cell_type": "markdown",
      "source": [
        "If you run from Google Colab, the code below should install all of the dependences you need to run."
      ],
      "metadata": {
        "id": "GM1M15_K5JHi"
      }
    },
    {
      "cell_type": "code",
      "source": [
        "%pip install -q pyscf py3DMol plotly pandas geometric git+https://github.com/pyscf/properties"
      ],
      "metadata": {
        "colab": {
          "base_uri": "https://localhost:8080/"
        },
        "id": "y1cTLvnZ4mBs",
        "outputId": "fdd9bd0b-4c1c-4fe5-8454-ec79b176fa99"
      },
      "execution_count": null,
      "outputs": [
        {
          "output_type": "stream",
          "name": "stdout",
          "text": [
            "  Preparing metadata (setup.py) ... \u001b[?25l\u001b[?25hdone\n",
            "\u001b[?25l     \u001b[90m━━━━━━━━━━━━━━━━━━━━━━━━━━━━━━━━━━━━━━━━\u001b[0m \u001b[32m0.0/385.0 kB\u001b[0m \u001b[31m?\u001b[0m eta \u001b[36m-:--:--\u001b[0m\r\u001b[2K     \u001b[91m━━━━━━━━━━━━━━━━━━━━━━━━━━━━━━━\u001b[0m\u001b[91m╸\u001b[0m\u001b[90m━━━━━━━━\u001b[0m \u001b[32m307.2/385.0 kB\u001b[0m \u001b[31m8.9 MB/s\u001b[0m eta \u001b[36m0:00:01\u001b[0m\r\u001b[2K     \u001b[90m━━━━━━━━━━━━━━━━━━━━━━━━━━━━━━━━━━━━━━━━\u001b[0m \u001b[32m385.0/385.0 kB\u001b[0m \u001b[31m6.0 MB/s\u001b[0m eta \u001b[36m0:00:00\u001b[0m\n",
            "\u001b[?25h  Preparing metadata (setup.py) ... \u001b[?25l\u001b[?25hdone\n",
            "  Building wheel for geometric (setup.py) ... \u001b[?25l\u001b[?25hdone\n"
          ]
        }
      ]
    },
    {
      "cell_type": "code",
      "execution_count": null,
      "metadata": {
        "colab": {
          "base_uri": "https://localhost:8080/"
        },
        "id": "RHn3ZG8V4aq_",
        "outputId": "bb645fba-a9de-403e-d949-5a5464a9ff4c"
      },
      "outputs": [
        {
          "output_type": "stream",
          "name": "stderr",
          "text": [
            "/usr/local/lib/python3.10/dist-packages/pyscf/prop/efg/rhf.py:45: UserWarning: Module EFG is under testing\n",
            "  warnings.warn('Module EFG is under testing')\n",
            "/usr/local/lib/python3.10/dist-packages/pyscf/prop/efg/dhf.py:30: UserWarning: Module EFG is under testing\n",
            "  warnings.warn('Module EFG is under testing')\n",
            "/usr/local/lib/python3.10/dist-packages/pyscf/prop/zfs/uhf.py:40: UserWarning: Module ZFS is under testing\n",
            "  warnings.warn('Module ZFS is under testing')\n",
            "/usr/local/lib/python3.10/dist-packages/pyscf/prop/gtensor/uhf.py:43: UserWarning: Module g-tensor is under testing\n",
            "  warnings.warn('Module g-tensor is under testing')\n",
            "/usr/local/lib/python3.10/dist-packages/pyscf/prop/gtensor/uks.py:41: UserWarning: Module g-tensor is under testing\n",
            "  warnings.warn('Module g-tensor is under testing')\n",
            "/usr/local/lib/python3.10/dist-packages/pyscf/prop/hfc/uks.py:35: UserWarning: Module HFC is under testing\n",
            "  warnings.warn('Module HFC is under testing')\n",
            "/usr/local/lib/python3.10/dist-packages/pyscf/prop/magnetizability/rhf.py:39: UserWarning: Module magnetizability is under testing\n",
            "  warnings.warn('Module magnetizability is under testing')\n",
            "/usr/local/lib/python3.10/dist-packages/pyscf/prop/magnetizability/uhf.py:37: UserWarning: Module magnetizability is under testing\n",
            "  warnings.warn('Module magnetizability is under testing')\n",
            "/usr/local/lib/python3.10/dist-packages/pyscf/prop/magnetizability/rks.py:37: UserWarning: Module magnetizability is under testing\n",
            "  warnings.warn('Module magnetizability is under testing')\n",
            "/usr/local/lib/python3.10/dist-packages/pyscf/prop/magnetizability/uks.py:39: UserWarning: Module magnetizability is under testing\n",
            "  warnings.warn('Module magnetizability is under testing')\n",
            "/usr/local/lib/python3.10/dist-packages/pyscf/prop/polarizability/uhf.py:34: UserWarning: Module polarizability is under testing\n",
            "  warnings.warn('Module polarizability is under testing')\n",
            "/usr/local/lib/python3.10/dist-packages/pyscf/prop/polarizability/rks.py:29: UserWarning: Module polarizability is under testing\n",
            "  warnings.warn('Module polarizability is under testing')\n",
            "/usr/local/lib/python3.10/dist-packages/pyscf/prop/polarizability/uks.py:29: UserWarning: Module polarizability is under testing\n",
            "  warnings.warn('Module polarizability is under testing')\n",
            "/usr/local/lib/python3.10/dist-packages/pyscf/prop/infrared/__init__.py:9: UserWarning: Module infrared is not fully tested\n",
            "  warnings.warn('Module infrared is not fully tested')\n"
          ]
        }
      ],
      "source": [
        "\n",
        "from pyscf import gto\n",
        "from pyscf.hessian import thermo\n",
        "import numpy as np\n",
        "import py3Dmol\n",
        "from pyscf.geomopt.geometric_solver import optimize\n",
        "import pandas as pd\n",
        "import plotly.express as px\n",
        "from pyscf.prop.polarizability.rhf import Polarizability\n",
        "\n"
      ]
    },
    {
      "cell_type": "markdown",
      "metadata": {
        "id": "AqoBVnbU4arA"
      },
      "source": [
        "# Raman Scattering\n",
        "Raman spectroscopy is a widely used technique in chemistry and biology to figure out molecular composition and structure of samples by measuring the vibrational energy states. To see this, we need to go through some of the basic theory for Raman spectroscopy.\n"
      ]
    },
    {
      "cell_type": "markdown",
      "metadata": {
        "id": "gnIZ-3TQ4arA"
      },
      "source": [
        "<img src = \"../figures/Raman-Scattering-1.png\" alt = \"Raman Scattering\" width=\"600\">\n",
        "\n",
        "<img src = \"../figures/Jablonski-Diagram-1.png\" alt = \"Raman Scattering\" width=\"600\">\n",
        "\n",
        "*edinst.com/blog/what-is-raman-spectroscopy/*\n",
        "\n",
        "In general, when you shoot a beam of light onto some molecules, you would pump the molecule from one of the ground vibrational state to the virtual state, which is created by the interaction between the light and the molecule. Since virtual state is not stable, the molecule will come down again to the ground vibrational states. Three types of event tends to happens in this process. The first one is what people called **Rayleigh** scattering, where the molecule drop from the virutal state to the original vibrational ground state, causing no change in the scattered photon energy comparing to the incident photon.\n",
        "\n",
        "The other two types of event involves change of scattered photon energy due to the fact that the molecule drop from virtual state to a different vibrational ground states. Depends on whether it drop to a higher or lower ground state compare to the original, people call them **Stokes** or **Anti-stokes** Raman scattering. And the shifts in the photon energy tells us information about the vibrational states of the molecules, which serves as a ***finger print*** due the uniqueness of vibrational frequencies for different molecules."
      ]
    },
    {
      "cell_type": "markdown",
      "metadata": {
        "id": "CuDuER3X4arB"
      },
      "source": [
        "We can understand the Raman process in term of classcial theory. When a molecule is in an electric field $\\mathbf{E}$, the molecule will be polarized, which result with an induced dipple moment $\\mathbf{P}$. The strength of the dipole $\\mathbf{P}$ is given by\n",
        "$$\n",
        "\\mathbf{P} = \\alpha E\n",
        "$$\n",
        "where $\\alpha$ is the polarizability of the molecule.\n",
        "Light is a electromagnetic wave. For a beam of light with frequency $\\nu_0$, the magntiude of the electric field can be written as\n",
        "$$\n",
        "\\mathbf{E} = E_0 \\cos (2 \\pi \\nu_0 t).\n",
        "$$\n",
        "As a result, the induced dipole of the molecule can be derived:\n",
        "$$\n",
        "\\mathbf{P} = \\alpha \\mathbf{E_0} \\cos (2 \\pi \\nu_0 t)\n",
        "$$\n",
        "The polarizability will depends on the actual geometry of the molecule. So as you can image, when the molecule starts to vibrate, the polarizbaility will change. We can write polarizability $\\alpha$ as a function of vibrational modes $\\mathbf{q}$. If we do a first order taylor expansion of $\\alpha$, then\n",
        "$$\n",
        "\\alpha = \\alpha_0 + (\\frac{\\partial \\alpha}{\\partial \\mathbf{q_i}})\\cos (2 \\pi \\nu_i t),\n",
        "$$\n",
        "where $\\nu_i$ is the $i$ th vibrational frequency respect to the corresponding modes. Plug it back in to the induce dipole equation\n",
        "$$\n",
        "\\mathbf{P} = \\alpha_0 \\mathbf{E_0} \\cos (2 \\pi \\nu_0 t) + (\\frac{\\partial \\alpha}{\\partial \\mathbf{q_i}})\\mathbf{E_0} \\cos (2 \\pi \\nu_0 t)\\cos (2 \\pi \\nu_i t) \\\\\n",
        "\n",
        "= \\alpha_0 \\mathbf{E_0} \\cos(2 \\pi \\nu_0 t) + {1\\over 2}(\\frac{\\partial \\alpha}{\\partial \\mathbf{q_i}})\\mathbf{E_0} [\\cos (2 \\pi (\\nu_0 - \\nu_i) t) + \\cos (2 \\pi (\\nu_0 + \\nu_i ) t)].\n",
        "$$\n",
        "\n",
        "The first term represent the Rayleigh scattering and the last two term represent anti-stokes and stokes scattering process. Since the scattering intensity is proportional to $|\\mathbf{P}|^2$, the Raman intensity $I_{Raman}$ is proportional to $\\large |\\frac{\\partial \\alpha}{\\partial \\mathbf{q_i}}|^2$."
      ]
    },
    {
      "cell_type": "markdown",
      "metadata": {
        "id": "CtSJ43QY4arB"
      },
      "source": [
        "## Procedure to calculate Raman Spectrum\n",
        "Here we will present a native implementation of simulating static Raman spectrum for the given molecule using ***Hartree Fock*** method from ```Pyscf``` package.\n",
        "\n",
        "The first step for simulating Raman scattering is to construct the molecule we would like to study. For ```Pyscf``` package, we need to feed the xyz position of the atoms and the basis function for constructing the wave functon. Here I showed an example for H2O molecule."
      ]
    },
    {
      "cell_type": "code",
      "execution_count": 6,
      "metadata": {
        "id": "0VuPuvlt4arB",
        "outputId": "286b74ba-3a3f-4a8a-cc48-abe5251e48bd",
        "colab": {
          "base_uri": "https://localhost:8080/",
          "height": 434
        }
      },
      "outputs": [
        {
          "output_type": "stream",
          "name": "stdout",
          "text": [
            "Molecule before optimize\n"
          ]
        },
        {
          "output_type": "display_data",
          "data": {
            "application/3dmoljs_load.v0": "<div id=\"3dmolviewer_17338734111107163\"  style=\"position: relative; width: 400px; height: 400px;\">\n        <p id=\"3dmolwarning_17338734111107163\" style=\"background-color:#ffcccc;color:black\">3Dmol.js failed to load for some reason.  Please check your browser console for error messages.<br></p>\n        </div>\n<script>\n\nvar loadScriptAsync = function(uri){\n  return new Promise((resolve, reject) => {\n    //this is to ignore the existence of requirejs amd\n    var savedexports, savedmodule;\n    if (typeof exports !== 'undefined') savedexports = exports;\n    else exports = {}\n    if (typeof module !== 'undefined') savedmodule = module;\n    else module = {}\n\n    var tag = document.createElement('script');\n    tag.src = uri;\n    tag.async = true;\n    tag.onload = () => {\n        exports = savedexports;\n        module = savedmodule;\n        resolve();\n    };\n  var firstScriptTag = document.getElementsByTagName('script')[0];\n  firstScriptTag.parentNode.insertBefore(tag, firstScriptTag);\n});\n};\n\nif(typeof $3Dmolpromise === 'undefined') {\n$3Dmolpromise = null;\n  $3Dmolpromise = loadScriptAsync('https://cdnjs.cloudflare.com/ajax/libs/3Dmol/2.4.2/3Dmol-min.js');\n}\n\nvar viewer_17338734111107163 = null;\nvar warn = document.getElementById(\"3dmolwarning_17338734111107163\");\nif(warn) {\n    warn.parentNode.removeChild(warn);\n}\n$3Dmolpromise.then(function() {\nviewer_17338734111107163 = $3Dmol.createViewer(document.getElementById(\"3dmolviewer_17338734111107163\"),{backgroundColor:\"white\"});\nviewer_17338734111107163.zoomTo();\n\tviewer_17338734111107163.addModel(\"3\\nXYZ from PySCF\\nO           0.00000        0.00000        0.00000\\nH           0.75860        0.00000        0.50428\\nH          -0.75860        0.00000        0.50428\",\"xyz\");\n\tviewer_17338734111107163.setStyle({\"stick\": {}, \"sphere\": {\"radius\": 0.4}});\n\tviewer_17338734111107163.setBackgroundColor(\"0xeeeeee\");\nviewer_17338734111107163.render();\n});\n</script>",
            "text/html": [
              "<div id=\"3dmolviewer_17338734111107163\"  style=\"position: relative; width: 400px; height: 400px;\">\n",
              "        <p id=\"3dmolwarning_17338734111107163\" style=\"background-color:#ffcccc;color:black\">3Dmol.js failed to load for some reason.  Please check your browser console for error messages.<br></p>\n",
              "        </div>\n",
              "<script>\n",
              "\n",
              "var loadScriptAsync = function(uri){\n",
              "  return new Promise((resolve, reject) => {\n",
              "    //this is to ignore the existence of requirejs amd\n",
              "    var savedexports, savedmodule;\n",
              "    if (typeof exports !== 'undefined') savedexports = exports;\n",
              "    else exports = {}\n",
              "    if (typeof module !== 'undefined') savedmodule = module;\n",
              "    else module = {}\n",
              "\n",
              "    var tag = document.createElement('script');\n",
              "    tag.src = uri;\n",
              "    tag.async = true;\n",
              "    tag.onload = () => {\n",
              "        exports = savedexports;\n",
              "        module = savedmodule;\n",
              "        resolve();\n",
              "    };\n",
              "  var firstScriptTag = document.getElementsByTagName('script')[0];\n",
              "  firstScriptTag.parentNode.insertBefore(tag, firstScriptTag);\n",
              "});\n",
              "};\n",
              "\n",
              "if(typeof $3Dmolpromise === 'undefined') {\n",
              "$3Dmolpromise = null;\n",
              "  $3Dmolpromise = loadScriptAsync('https://cdnjs.cloudflare.com/ajax/libs/3Dmol/2.4.2/3Dmol-min.js');\n",
              "}\n",
              "\n",
              "var viewer_17338734111107163 = null;\n",
              "var warn = document.getElementById(\"3dmolwarning_17338734111107163\");\n",
              "if(warn) {\n",
              "    warn.parentNode.removeChild(warn);\n",
              "}\n",
              "$3Dmolpromise.then(function() {\n",
              "viewer_17338734111107163 = $3Dmol.createViewer(document.getElementById(\"3dmolviewer_17338734111107163\"),{backgroundColor:\"white\"});\n",
              "viewer_17338734111107163.zoomTo();\n",
              "\tviewer_17338734111107163.addModel(\"3\\nXYZ from PySCF\\nO           0.00000        0.00000        0.00000\\nH           0.75860        0.00000        0.50428\\nH          -0.75860        0.00000        0.50428\",\"xyz\");\n",
              "\tviewer_17338734111107163.setStyle({\"stick\": {}, \"sphere\": {\"radius\": 0.4}});\n",
              "\tviewer_17338734111107163.setBackgroundColor(\"0xeeeeee\");\n",
              "viewer_17338734111107163.render();\n",
              "});\n",
              "</script>"
            ]
          },
          "metadata": {}
        }
      ],
      "source": [
        "# Construct water molecule. The position are default in unit of angstrom.\n",
        "mol = gto.M(\n",
        "    atom=\"\"\"\n",
        "    O  0.000000  0.000000  0.000000\n",
        "    H  0.758602  0.000000  0.504284\n",
        "    H -0.758602  0.000000  0.504284\n",
        "    \"\"\",\n",
        "    basis='6-31g', # I used one of the simpliest basis set\n",
        "    verbose=0, # Cancel most output information\n",
        ")\n",
        "\n",
        "# 3D view of the molecule\n",
        "print(\"Molecule before optimize\")\n",
        "xyz_view_before = py3Dmol.view(width=400,height=400)\n",
        "xyz_view_before.addModel(mol.tostring(format=\"xyz\"),'xyz')\n",
        "xyz_view_before.setStyle({'stick':{}, \"sphere\":{\"radius\":0.4}})\n",
        "xyz_view_before.setBackgroundColor('0xeeeeee')\n",
        "xyz_view_before.show()\n"
      ]
    },
    {
      "cell_type": "markdown",
      "metadata": {
        "id": "KPPSCeOO4arB"
      },
      "source": [
        "In general, for different basis function, the equilibrium structure will be slightly different. Thus, for later calculation, it's a good idea to obtain the correct equilibrium structure. We will be using the optimizer provided by ```Pyscf```. In the water case, it does not care that much. But for much bigger molecule such as glycine, it will make a noticable difference, as we will see"
      ]
    },
    {
      "cell_type": "code",
      "execution_count": 7,
      "metadata": {
        "id": "zkyL3f384arB",
        "outputId": "637e406c-bd29-421a-c12a-0cc2dc983de5",
        "colab": {
          "base_uri": "https://localhost:8080/",
          "height": 1000
        }
      },
      "outputs": [
        {
          "output_type": "stream",
          "name": "stderr",
          "text": [
            "geometric-optimize called with the following command line:\n",
            "/usr/local/lib/python3.10/dist-packages/colab_kernel_launcher.py -f /root/.local/share/jupyter/runtime/kernel-15aad529-9821-4f56-8548-4aed7c16561e.json\n",
            "\n",
            "                                        \u001b[91m())))))))))))))))/\u001b[0m                     \n",
            "                                    \u001b[91m())))))))))))))))))))))))),\u001b[0m                \n",
            "                                \u001b[91m*)))))))))))))))))))))))))))))))))\u001b[0m             \n",
            "                        \u001b[94m#,\u001b[0m    \u001b[91m()))))))))/\u001b[0m                \u001b[91m.)))))))))),\u001b[0m          \n",
            "                      \u001b[94m#%%%%,\u001b[0m  \u001b[91m())))))\u001b[0m                        \u001b[91m.))))))))*\u001b[0m        \n",
            "                      \u001b[94m*%%%%%%,\u001b[0m  \u001b[91m))\u001b[0m              \u001b[93m..\u001b[0m              \u001b[91m,))))))).\u001b[0m      \n",
            "                        \u001b[94m*%%%%%%,\u001b[0m         \u001b[93m***************/.\u001b[0m        \u001b[91m.)))))))\u001b[0m     \n",
            "                \u001b[94m#%%/\u001b[0m      \u001b[94m(%%%%%%,\u001b[0m    \u001b[93m/*********************.\u001b[0m       \u001b[91m)))))))\u001b[0m    \n",
            "              \u001b[94m.%%%%%%#\u001b[0m      \u001b[94m*%%%%%%,\u001b[0m  \u001b[93m*******/,\u001b[0m     \u001b[93m**********,\u001b[0m      \u001b[91m.))))))\u001b[0m   \n",
            "                \u001b[94m.%%%%%%/\u001b[0m      \u001b[94m*%%%%%%,\u001b[0m  \u001b[93m**\u001b[0m              \u001b[93m********\u001b[0m      \u001b[91m.))))))\u001b[0m  \n",
            "          \u001b[94m##\u001b[0m      \u001b[94m.%%%%%%/\u001b[0m      \u001b[94m(%%%%%%,\u001b[0m                  \u001b[93m,******\u001b[0m      \u001b[91m/)))))\u001b[0m  \n",
            "        \u001b[94m%%%%%%\u001b[0m      \u001b[94m.%%%%%%#\u001b[0m      \u001b[94m*%%%%%%,\u001b[0m    \u001b[92m,/////.\u001b[0m       \u001b[93m******\u001b[0m      \u001b[91m))))))\u001b[0m \n",
            "      \u001b[94m#%\u001b[0m      \u001b[94m%%\u001b[0m      \u001b[94m.%%%%%%/\u001b[0m      \u001b[94m*%%%%%%,\u001b[0m  \u001b[92m////////,\u001b[0m      \u001b[93m*****/\u001b[0m     \u001b[91m,)))))\u001b[0m \n",
            "    \u001b[94m#%%\u001b[0m  \u001b[94m%%%\u001b[0m  \u001b[94m%%%#\u001b[0m      \u001b[94m.%%%%%%/\u001b[0m      \u001b[94m(%%%%%%,\u001b[0m  \u001b[92m///////.\u001b[0m     \u001b[93m/*****\u001b[0m      \u001b[91m))))).\u001b[0m\n",
            "  \u001b[94m#%%%%.\u001b[0m      \u001b[94m%%%%%#\u001b[0m      \u001b[94m/%%%%%%*\u001b[0m      \u001b[94m#%%%%%%\u001b[0m   \u001b[92m/////)\u001b[0m     \u001b[93m******\u001b[0m      \u001b[91m))))),\u001b[0m\n",
            "    \u001b[94m#%%%%##%\u001b[0m  \u001b[94m%%%#\u001b[0m      \u001b[94m.%%%%%%/\u001b[0m      \u001b[94m(%%%%%%,\u001b[0m  \u001b[92m///////.\u001b[0m     \u001b[93m/*****\u001b[0m      \u001b[91m))))).\u001b[0m\n",
            "      \u001b[94m##\u001b[0m     \u001b[94m%%%\u001b[0m      \u001b[94m.%%%%%%/\u001b[0m      \u001b[94m*%%%%%%,\u001b[0m  \u001b[92m////////.\u001b[0m      \u001b[93m*****/\u001b[0m     \u001b[91m,)))))\u001b[0m \n",
            "        \u001b[94m#%%%%#\u001b[0m      \u001b[94m/%%%%%%/\u001b[0m      \u001b[94m(%%%%%%\u001b[0m      \u001b[92m/)/)//\u001b[0m       \u001b[93m******\u001b[0m      \u001b[91m))))))\u001b[0m \n",
            "          \u001b[94m##\u001b[0m      \u001b[94m.%%%%%%/\u001b[0m      \u001b[94m(%%%%%%,\u001b[0m                  \u001b[93m*******\u001b[0m      \u001b[91m))))))\u001b[0m  \n",
            "                \u001b[94m.%%%%%%/\u001b[0m      \u001b[94m*%%%%%%,\u001b[0m  \u001b[93m**.\u001b[0m             \u001b[93m/*******\u001b[0m      \u001b[91m.))))))\u001b[0m  \n",
            "              \u001b[94m*%%%%%%/\u001b[0m      \u001b[94m(%%%%%%\u001b[0m   \u001b[93m********/*..,*/*********\u001b[0m       \u001b[91m*))))))\u001b[0m   \n",
            "                \u001b[94m#%%/\u001b[0m      \u001b[94m(%%%%%%,\u001b[0m    \u001b[93m*********************/\u001b[0m        \u001b[91m)))))))\u001b[0m    \n",
            "                        \u001b[94m*%%%%%%,\u001b[0m         \u001b[93m,**************/\u001b[0m         \u001b[91m,))))))/\u001b[0m     \n",
            "                      \u001b[94m(%%%%%%\u001b[0m   \u001b[91m()\u001b[0m                              \u001b[91m))))))))\u001b[0m       \n",
            "                      \u001b[94m#%%%%,\u001b[0m  \u001b[91m())))))\u001b[0m                        \u001b[91m,)))))))),\u001b[0m        \n",
            "                        \u001b[94m#,\u001b[0m    \u001b[91m())))))))))\u001b[0m                \u001b[91m,)))))))))).\u001b[0m          \n",
            "                                 \u001b[91m()))))))))))))))))))))))))))))))/\u001b[0m             \n",
            "                                    \u001b[91m())))))))))))))))))))))))).\u001b[0m                \n",
            "                                         \u001b[91m())))))))))))))),\u001b[0m                     \n",
            "\n",
            "-=# \u001b[1;94m geomeTRIC started. Version: 1.0.2 \u001b[0m #=-\n",
            "Current date and time: 2024-12-10 23:30:15\n",
            "Custom engine selected.\n",
            "Bonds will be generated from interatomic distances less than 1.20 times sum of covalent radii\n",
            "9 internal coordinates being used (instead of 9 Cartesians)\n",
            "Internal coordinate system (atoms numbered from 1):\n",
            "Distance 1-2\n",
            "Distance 1-3\n",
            "Angle 2-1-3\n",
            "Translation-X 1-3\n",
            "Translation-Y 1-3\n",
            "Translation-Z 1-3\n",
            "Rotation-A 1-3\n",
            "Rotation-B 1-3\n",
            "Rotation-C 1-3\n",
            "<class 'geometric.internal.Distance'> : 2\n",
            "<class 'geometric.internal.Angle'> : 1\n",
            "<class 'geometric.internal.TranslationX'> : 1\n",
            "<class 'geometric.internal.TranslationY'> : 1\n",
            "<class 'geometric.internal.TranslationZ'> : 1\n",
            "<class 'geometric.internal.RotationA'> : 1\n",
            "<class 'geometric.internal.RotationB'> : 1\n",
            "<class 'geometric.internal.RotationC'> : 1\n",
            "> ===== Optimization Info: ====\n",
            "> Job type: Energy minimization\n",
            "> Maximum number of optimization cycles: 300\n",
            "> Initial / maximum trust radius (Angstrom): 0.100 / 0.300\n",
            "> Convergence Criteria:\n",
            "> Will converge when all 5 criteria are reached:\n",
            ">  |Delta-E| < 1.00e-06\n",
            ">  RMS-Grad  < 3.00e-04\n",
            ">  Max-Grad  < 4.50e-04\n",
            ">  RMS-Disp  < 1.20e-03\n",
            ">  Max-Disp  < 1.80e-03\n",
            "> === End Optimization Info ===\n",
            "Step    0 : Gradient = 4.939e-02/5.148e-02 (rms/max) Energy = -75.9820090588\n",
            "Hessian Eigenvalues: 5.00000e-02 5.00000e-02 5.00000e-02 ... 1.60000e-01 6.75249e-01 6.75249e-01\n",
            "Step    1 : Displace = \u001b[0m2.944e-02\u001b[0m/\u001b[0m3.528e-02\u001b[0m (rms/max) Trust = 1.000e-01 (=) Grad = \u001b[0m3.908e-03\u001b[0m/\u001b[0m4.986e-03\u001b[0m (rms/max) E (change) = -75.9852602288 (\u001b[0m-3.251e-03\u001b[0m) Quality = \u001b[0m0.938\u001b[0m\n",
            "Hessian Eigenvalues: 5.00000e-02 5.00000e-02 5.00000e-02 ... 1.61927e-01 6.75249e-01 6.79305e-01\n",
            "Step    2 : Displace = \u001b[0m9.707e-03\u001b[0m/\u001b[0m9.800e-03\u001b[0m (rms/max) Trust = 1.414e-01 (\u001b[92m+\u001b[0m) Grad = \u001b[92m1.002e-04\u001b[0m/\u001b[92m1.202e-04\u001b[0m (rms/max) E (change) = -75.9853591102 (\u001b[0m-9.888e-05\u001b[0m) Quality = \u001b[0m0.984\u001b[0m\n",
            "Hessian Eigenvalues: 5.00000e-02 5.00000e-02 5.00000e-02 ... 1.65463e-01 6.75249e-01 6.80824e-01\n",
            "Step    3 : Displace = \u001b[92m2.472e-04\u001b[0m/\u001b[92m2.694e-04\u001b[0m (rms/max) Trust = 2.000e-01 (\u001b[92m+\u001b[0m) Grad = \u001b[92m1.200e-05\u001b[0m/\u001b[92m1.466e-05\u001b[0m (rms/max) E (change) = -75.9853591762 (\u001b[92m-6.597e-08\u001b[0m) Quality = \u001b[0m0.998\u001b[0m\n",
            "Hessian Eigenvalues: 5.00000e-02 5.00000e-02 5.00000e-02 ... 1.65463e-01 6.75249e-01 6.80824e-01\n",
            "Converged! =D\n",
            "\n",
            "    #==========================================================================#\n",
            "    #| If this code has benefited your research, please support us by citing: |#\n",
            "    #|                                                                        |#\n",
            "    #| Wang, L.-P.; Song, C.C. (2016) \"Geometry optimization made simple with |#\n",
            "    #| translation and rotation coordinates\", J. Chem, Phys. 144, 214108.     |#\n",
            "    #| http://dx.doi.org/10.1063/1.4952956                                    |#\n",
            "    #==========================================================================#\n",
            "    Time elapsed since start of run_optimizer: 2.168 seconds\n"
          ]
        },
        {
          "output_type": "stream",
          "name": "stdout",
          "text": [
            "Molecule after optimization\n"
          ]
        },
        {
          "output_type": "display_data",
          "data": {
            "application/3dmoljs_load.v0": "<div id=\"3dmolviewer_17338734174021308\"  style=\"position: relative; width: 400px; height: 400px;\">\n        <p id=\"3dmolwarning_17338734174021308\" style=\"background-color:#ffcccc;color:black\">3Dmol.js failed to load for some reason.  Please check your browser console for error messages.<br></p>\n        </div>\n<script>\n\nvar loadScriptAsync = function(uri){\n  return new Promise((resolve, reject) => {\n    //this is to ignore the existence of requirejs amd\n    var savedexports, savedmodule;\n    if (typeof exports !== 'undefined') savedexports = exports;\n    else exports = {}\n    if (typeof module !== 'undefined') savedmodule = module;\n    else module = {}\n\n    var tag = document.createElement('script');\n    tag.src = uri;\n    tag.async = true;\n    tag.onload = () => {\n        exports = savedexports;\n        module = savedmodule;\n        resolve();\n    };\n  var firstScriptTag = document.getElementsByTagName('script')[0];\n  firstScriptTag.parentNode.insertBefore(tag, firstScriptTag);\n});\n};\n\nif(typeof $3Dmolpromise === 'undefined') {\n$3Dmolpromise = null;\n  $3Dmolpromise = loadScriptAsync('https://cdnjs.cloudflare.com/ajax/libs/3Dmol/2.4.2/3Dmol-min.js');\n}\n\nvar viewer_17338734174021308 = null;\nvar warn = document.getElementById(\"3dmolwarning_17338734174021308\");\nif(warn) {\n    warn.parentNode.removeChild(warn);\n}\n$3Dmolpromise.then(function() {\nviewer_17338734174021308 = $3Dmol.createViewer(document.getElementById(\"3dmolviewer_17338734174021308\"),{backgroundColor:\"white\"});\nviewer_17338734174021308.zoomTo();\n\tviewer_17338734174021308.addModel(\"3\\nXYZ from PySCF\\nO           0.00000        0.00000       -0.01990\\nH           0.78516        0.00000        0.51423\\nH          -0.78516        0.00000        0.51423\",\"xyz\");\n\tviewer_17338734174021308.setStyle({\"stick\": {}, \"sphere\": {\"radius\": 0.4}});\n\tviewer_17338734174021308.setBackgroundColor(\"0xeeeeee\");\nviewer_17338734174021308.render();\n});\n</script>",
            "text/html": [
              "<div id=\"3dmolviewer_17338734174021308\"  style=\"position: relative; width: 400px; height: 400px;\">\n",
              "        <p id=\"3dmolwarning_17338734174021308\" style=\"background-color:#ffcccc;color:black\">3Dmol.js failed to load for some reason.  Please check your browser console for error messages.<br></p>\n",
              "        </div>\n",
              "<script>\n",
              "\n",
              "var loadScriptAsync = function(uri){\n",
              "  return new Promise((resolve, reject) => {\n",
              "    //this is to ignore the existence of requirejs amd\n",
              "    var savedexports, savedmodule;\n",
              "    if (typeof exports !== 'undefined') savedexports = exports;\n",
              "    else exports = {}\n",
              "    if (typeof module !== 'undefined') savedmodule = module;\n",
              "    else module = {}\n",
              "\n",
              "    var tag = document.createElement('script');\n",
              "    tag.src = uri;\n",
              "    tag.async = true;\n",
              "    tag.onload = () => {\n",
              "        exports = savedexports;\n",
              "        module = savedmodule;\n",
              "        resolve();\n",
              "    };\n",
              "  var firstScriptTag = document.getElementsByTagName('script')[0];\n",
              "  firstScriptTag.parentNode.insertBefore(tag, firstScriptTag);\n",
              "});\n",
              "};\n",
              "\n",
              "if(typeof $3Dmolpromise === 'undefined') {\n",
              "$3Dmolpromise = null;\n",
              "  $3Dmolpromise = loadScriptAsync('https://cdnjs.cloudflare.com/ajax/libs/3Dmol/2.4.2/3Dmol-min.js');\n",
              "}\n",
              "\n",
              "var viewer_17338734174021308 = null;\n",
              "var warn = document.getElementById(\"3dmolwarning_17338734174021308\");\n",
              "if(warn) {\n",
              "    warn.parentNode.removeChild(warn);\n",
              "}\n",
              "$3Dmolpromise.then(function() {\n",
              "viewer_17338734174021308 = $3Dmol.createViewer(document.getElementById(\"3dmolviewer_17338734174021308\"),{backgroundColor:\"white\"});\n",
              "viewer_17338734174021308.zoomTo();\n",
              "\tviewer_17338734174021308.addModel(\"3\\nXYZ from PySCF\\nO           0.00000        0.00000       -0.01990\\nH           0.78516        0.00000        0.51423\\nH          -0.78516        0.00000        0.51423\",\"xyz\");\n",
              "\tviewer_17338734174021308.setStyle({\"stick\": {}, \"sphere\": {\"radius\": 0.4}});\n",
              "\tviewer_17338734174021308.setBackgroundColor(\"0xeeeeee\");\n",
              "viewer_17338734174021308.render();\n",
              "});\n",
              "</script>"
            ]
          },
          "metadata": {}
        }
      ],
      "source": [
        "\n",
        "# Set up restricted hartree fork object\n",
        "mf = mol.RHF().run()\n",
        "\n",
        "# Excute geometric optimization of the molecule using pyscf geometric solver\n",
        "Mol_freq = optimize(mf)\n",
        "\n",
        "# Update atomic position using optimized result\n",
        "mol.set_geom_(Mol_freq.tostring())\n",
        "\n",
        "# 3D view of the optimized molecule\n",
        "print(\"Molecule after optimization\")\n",
        "xyz_view_after = py3Dmol.view(width=400,height=400)\n",
        "xyz_view_after.addModel(mol.tostring(format=\"xyz\"),'xyz')\n",
        "xyz_view_after.setStyle({'stick':{}, \"sphere\":{\"radius\":0.4}})\n",
        "xyz_view_after.setBackgroundColor('0xeeeeee')\n",
        "xyz_view_after.show()"
      ]
    },
    {
      "cell_type": "markdown",
      "metadata": {
        "id": "kKZkCU0z4arC"
      },
      "source": [
        "After we set up the stage for accurate computation, we need three piece of information for simulating Raman spectrum: the vibrational frequencies, the normal modes and the polarizability derivative respect to the normal modes. The vibratonal frequencies and normal modes can be obtained by calculating the **Hessian Matrix** of the molecule, which is defined to be\n",
        "$$\n",
        "M_{H}^{ij} = \\frac{\\partial ^2 E}{\\partial \\mathbf{x_i} \\partial \\mathbf{x_j} }\n",
        "$$  \n",
        "where $\\mathbf{x_i}$ represent the $i$ th atomic coordinate. The eigenvalue and eigen vector of this matrix will give us the information about the vibrational frequencies and normal mode. Here we used the built-in function *harmonic_analysis* from ```pyscf.thermo``` module."
      ]
    },
    {
      "cell_type": "code",
      "execution_count": 8,
      "metadata": {
        "id": "dKCa-WpM4arC"
      },
      "outputs": [],
      "source": [
        "# Run unrestricted hatree fock method\n",
        "mf=mol.RHF().run()\n",
        "\n",
        "# Compute Hessian matrix for normal mode calculation\n",
        "Hessian_M = mf.Hessian().kernel()\n",
        "\n",
        "# Calculate normal modes and frequencies using harmonic_analysis\n",
        "freq_info = thermo.harmonic_analysis(mf.mol,Hessian_M,exclude_rot=True,imaginary_freq=True)\n",
        "\n",
        "\n",
        "# Assign frequencies and normal mode for future use\n",
        "Vib_freq = np.transpose(freq_info[\"freq_wavenumber\"])\n",
        "Nrm_mde = freq_info[\"norm_mode\"]\n",
        "\n"
      ]
    },
    {
      "cell_type": "markdown",
      "metadata": {
        "id": "QRoW3YFd4arD"
      },
      "source": [
        "Now we know the normal modes of the molecule, we can compute the derivative of polarizability respect to the normal modes. We will use finite differences method to compute the numerical derivative\n",
        "$$\n",
        "\\frac{\\partial \\alpha_{ij}}{\\partial q_k} \\approx {\\alpha(\\mathbf{x}+\\delta q_k)-\\alpha(\\mathbf{x}-\\delta q_k) \\over 2 \\delta q_i}.\n",
        "$$\n",
        "Then the corresponding Raman intensity can be approximate by\n",
        "$$\n",
        "I_i \\propto |\\frac{\\partial \\alpha_{ij}}{\\partial q_k}|^2\n",
        "$$"
      ]
    },
    {
      "cell_type": "code",
      "execution_count": 12,
      "metadata": {
        "id": "_YcOT4oe4arD",
        "outputId": "ccc2204c-f56e-4402-c627-8a3ecadac3a3",
        "colab": {
          "base_uri": "https://localhost:8080/",
          "height": 542
        }
      },
      "outputs": [
        {
          "output_type": "display_data",
          "data": {
            "text/html": [
              "<html>\n",
              "<head><meta charset=\"utf-8\" /></head>\n",
              "<body>\n",
              "    <div>            <script src=\"https://cdnjs.cloudflare.com/ajax/libs/mathjax/2.7.5/MathJax.js?config=TeX-AMS-MML_SVG\"></script><script type=\"text/javascript\">if (window.MathJax && window.MathJax.Hub && window.MathJax.Hub.Config) {window.MathJax.Hub.Config({SVG: {font: \"STIX-Web\"}});}</script>                <script type=\"text/javascript\">window.PlotlyConfig = {MathJaxConfig: 'local'};</script>\n",
              "        <script charset=\"utf-8\" src=\"https://cdn.plot.ly/plotly-2.35.2.min.js\"></script>                <div id=\"20e683ff-02df-4ed1-b420-cd38923e0e64\" class=\"plotly-graph-div\" style=\"height:525px; width:100%;\"></div>            <script type=\"text/javascript\">                                    window.PLOTLYENV=window.PLOTLYENV || {};                                    if (document.getElementById(\"20e683ff-02df-4ed1-b420-cd38923e0e64\")) {                    Plotly.newPlot(                        \"20e683ff-02df-4ed1-b420-cd38923e0e64\",                        [{\"hovertemplate\":\"wave number (cm^-1)=%{x}\\u003cbr\\u003eIntensity (au)=%{y}\\u003cextra\\u003e\\u003c\\u002fextra\\u003e\",\"legendgroup\":\"\",\"line\":{\"color\":\"#636efa\",\"dash\":\"solid\"},\"marker\":{\"symbol\":\"circle\"},\"mode\":\"lines+markers\",\"name\":\"\",\"orientation\":\"v\",\"showlegend\":false,\"x\":[868.3993782486142,872.0944709088787,875.7895635691434,879.484656229408,883.1797488896725,886.8748415499372,890.5699342102017,894.2650268704663,897.9601195307309,901.6552121909955,905.3503048512601,909.0453975115247,912.7404901717892,916.4355828320539,920.1306754923185,923.825768152583,927.5208608128477,931.2159534731122,934.9110461333768,938.6061387936414,942.301231453906,945.9963241141706,949.6914167744352,953.3865094346997,957.0816020949644,960.776694755229,964.4717874154935,968.1668800757582,971.8619727360227,975.5570653962873,979.2521580565519,982.9472507168165,986.642343377081,990.3374360373457,994.0325286976102,997.7276213578748,1001.4227140181395,1005.117806678404,1008.8128993386686,1012.5079919989332,1016.2030846591978,1019.8981773194623,1023.593269979727,1027.2883626399916,1030.983455300256,1034.6785479605207,1038.3736406207854,1042.0687332810498,1045.7638259413145,1049.4589186015792,1053.1540112618436,1056.8491039221083,1060.544196582373,1064.2392892426374,1067.934381902902,1071.6294745631667,1075.3245672234311,1079.0196598836958,1082.7147525439605,1086.409845204225,1090.1049378644896,1093.8000305247542,1097.4951231850187,1101.1902158452833,1104.885308505548,1108.5804011658124,1112.275493826077,1115.9705864863417,1119.6656791466064,1123.3607718068708,1127.0558644671355,1130.7509571274,1134.4460497876646,1138.1411424479293,1141.836235108194,1145.5313277684584,1149.226420428723,1152.9215130889877,1156.6166057492521,1160.3116984095168,1164.0067910697815,1167.7018837300461,1171.3969763903106,1175.0920690505752,1178.7871617108399,1182.4822543711043,1186.177347031369,1189.8724396916336,1193.567532351898,1197.2626250121627,1200.9577176724274,1204.6528103326918,1208.3479029929565,1212.0429956532212,1215.7380883134856,1219.4331809737503,1223.128273634015,1226.8233662942794,1230.518458954544,1234.2135516148087,1237.9086442750731,1241.6037369353378,1245.2988295956025,1248.993922255867,1252.6890149161316,1256.3841075763962,1260.0792002366607,1263.7742928969253,1267.46938555719,1271.1644782174544,1274.859570877719,1278.5546635379837,1282.2497561982482,1285.9448488585128,1289.6399415187775,1293.335034179042,1297.0301268393066,1300.7252194995713,1304.4203121598357,1308.1154048201004,1311.810497480365,1315.5055901406295,1319.2006828008941,1322.8957754611588,1326.5908681214232,1330.285960781688,1333.9810534419526,1337.676146102217,1341.3712387624817,1345.0663314227463,1348.7614240830108,1352.4565167432754,1356.15160940354,1359.8467020638047,1363.5417947240692,1367.2368873843338,1370.9319800445985,1374.627072704863,1378.3221653651276,1382.017258025392,1385.712350685657,1389.4074433459214,1393.1025360061858,1396.7976286664507,1400.4927213267151,1404.1878139869798,1407.8829066472445,1411.577999307509,1415.2730919677736,1418.9681846280382,1422.6632772883027,1426.3583699485673,1430.053462608832,1433.7485552690964,1437.443647929361,1441.1387405896257,1444.8338332498902,1448.5289259101548,1452.2240185704195,1455.919111230684,1459.6142038909486,1463.3092965512133,1467.0043892114777,1470.6994818717424,1474.394574532007,1478.0896671922715,1481.7847598525361,1485.4798525128008,1489.1749451730652,1492.87003783333,1496.5651304935946,1500.260223153859,1503.9553158141237,1507.6504084743883,1511.3455011346527,1515.0405937949174,1518.735686455182,1522.4307791154465,1526.1258717757112,1529.8209644359758,1533.5160570962403,1537.211149756505,1540.9062424167696,1544.601335077034,1548.2964277372987,1551.9915203975634,1555.6866130578278,1559.3817057180925,1563.0767983783571,1566.7718910386216,1570.4669836988865,1574.162076359151,1577.8571690194153,1581.5522616796802,1585.2473543399446,1588.942447000209,1592.637539660474,1596.3326323207384,1600.0277249810028,1603.7228176412677,1607.4179103015322,1611.1130029617966,1614.8080956220615,1618.503188282326,1622.1982809425906,1625.8933736028553,1629.5884662631197,1633.2835589233844,1636.978651583649,1640.6737442439135,1644.3688369041781,1648.0639295644428,1651.7590222247072,1655.454114884972,1659.1492075452365,1662.844300205501,1666.5393928657656,1670.2344855260303,1673.9295781862947,1677.6246708465594,1681.319763506824,1685.0148561670885,1688.7099488273532,1692.4050414876178,1696.1001341478823,1699.795226808147,1703.4903194684116,1707.185412128676,1710.8805047889407,1714.5755974492054,1718.2706901094698,1721.9657827697345,1725.6608754299991,1729.3559680902636,1733.0510607505282,1736.7461534107929,1740.4412460710573,1744.136338731322,1747.8314313915866,1751.526524051851,1755.2216167121157,1758.9167093723804,1762.6118020326448,1766.3068946929095,1770.0019873531742,1773.6970800134386,1777.3921726737033,1781.087265333968,1784.7823579942324,1788.4774506544973,1792.1725433147617,1795.8676359750261,1799.562728635291,1803.2578212955555,1806.95291395582,1810.6480066160848,1814.3430992763492,1818.0381919366137,1821.7332845968785,1825.428377257143,1829.1234699174074,1832.8185625776723,1836.5136552379367,1840.2087478982012,1843.903840558466,1847.5989332187305,1851.2940258789952,1854.9891185392598,1858.6842111995243,1862.379303859789,1866.0743965200536,1869.769489180318,1873.4645818405827,1877.1596745008474,1880.8547671611118,1884.5498598213765,1888.2449524816411,1891.9400451419056,1895.63513780217,1899.3302304624349,1903.0253231226993,1906.7204157829638,1910.4155084432286,1914.110601103493,1917.8056937637575,1921.5007864240224,1925.1958790842868,1928.8909717445517,1932.5860644048162,1936.2811570650806,1939.9762497253455,1943.67134238561,1947.3664350458744,1951.0615277061393,1954.7566203664037,1958.4517130266681,1962.146805686933,1965.8418983471975,1969.536991007462,1973.2320836677268,1976.9271763279912,1980.6222689882557,1984.3173616485205,1988.012454308785,1991.7075469690494,1995.4026396293143,1999.0977322895787,2002.7928249498432,2006.487917610108,2010.1830102703725,2013.878102930637,2017.5731955909018,2021.2682882511663,2024.9633809114307,2028.6584735716956,2032.35356623196,2036.0486588922245,2039.7437515524894,2043.4388442127538,2047.1339368730182,2050.829029533283,2054.5241221935476,2058.219214853812,2061.914307514077,2065.6094001743413,2069.3044928346058,2072.9995854948706,2076.694678155135,2080.3897708153995,2084.0848634756644,2087.779956135929,2091.4750487961933,2095.170141456458,2098.8652341167226,2102.560326776987,2106.255419437252,2109.9505120975164,2113.645604757781,2117.3406974180457,2121.03579007831,2124.7308827385746,2128.4259753988395,2132.121068059104,2135.8161607193683,2139.511253379633,2143.2063460398977,2146.901438700162,2150.596531360427,2154.2916240206914,2157.9867166809563,2161.6818093412207,2165.376902001485,2169.07199466175,2172.7670873220145,2176.462179982279,2180.157272642544,2183.8523653028083,2187.5474579630727,2191.2425506233376,2194.937643283602,2198.6327359438665,2202.3278286041314,2206.022921264396,2209.71801392466,2213.413106584925,2217.1081992451896,2220.803291905454,2224.498384565719,2228.1934772259833,2231.8885698862478,2235.5836625465126,2239.278755206777,2242.9738478670415,2246.6689405273064,2250.364033187571,2254.0591258478353,2257.7542185081,2261.4493111683646,2265.144403828629,2268.839496488894,2272.5345891491584,2276.229681809423,2279.9247744696877,2283.619867129952,2287.3149597902166,2291.0100524504815,2294.705145110746,2298.4002377710103,2302.095330431275,2305.7904230915397,2309.485515751804,2313.180608412069,2316.8757010723334,2320.570793732598,2324.2658863928627,2327.960979053127,2331.6560717133916,2335.3511643736565,2339.046257033921,2342.7413496941854,2346.4364423544503,2350.1315350147147,2353.826627674979,2357.521720335244,2361.2168129955085,2364.911905655773,2368.606998316038,2372.302090976302,2375.997183636567,2379.6922762968316,2383.387368957096,2387.082461617361,2390.7775542776253,2394.4726469378897,2398.1677395981546,2401.862832258419,2405.5579249186835,2409.2530175789484,2412.948110239213,2416.6432028994773,2420.338295559742,2424.0333882200066,2427.728480880271,2431.423573540536,2435.1186662008004,2438.813758861065,2442.5088515213297,2446.203944181594,2449.8990368418586,2453.5941295021235,2457.289222162388,2460.9843148226523,2464.679407482917,2468.3745001431816,2472.069592803446,2475.764685463711,2479.4597781239754,2483.15487078424,2486.8499634445047,2490.545056104769,2494.2401487650336,2497.9352414252985,2501.630334085563,2505.3254267458274,2509.0205194060923,2512.7156120663567,2516.410704726621,2520.105797386886,2523.8008900471505,2527.495982707415,2531.19107536768,2534.886168027944,2538.5812606882087,2542.2763533484735,2545.971446008738,2549.6665386690024,2553.3616313292673,2557.0567239895317,2560.751816649796,2564.446909310061,2568.1420019703255,2571.83709463059,2575.532187290855,2579.2272799511193,2582.9223726113837,2586.6174652716486,2590.312557931913,2594.007650592178,2597.7027432524424,2601.397835912707,2605.0929285729717,2608.788021233236,2612.4831138935006,2616.1782065537654,2619.87329921403,2623.5683918742943,2627.263484534559,2630.9585771948236,2634.653669855088,2638.348762515353,2642.0438551756174,2645.738947835882,2649.4340404961467,2653.129133156411,2656.8242258166756,2660.5193184769405,2664.214411137205,2667.9095037974694,2671.6045964577343,2675.2996891179987,2678.994781778263,2682.689874438528,2686.3849670987925,2690.080059759057,2693.775152419322,2697.470245079586,2701.1653377398507,2704.8604304001155,2708.55552306038,2712.2506157206444,2715.9457083809093,2719.6408010411737,2723.335893701438,2727.030986361703,2730.7260790219675,2734.421171682232,2738.116264342497,2741.8113570027613,2745.5064496630257,2749.2015423232906,2752.896634983555,2756.5917276438195,2760.2868203040844,2763.981912964349,2767.6770056246132,2771.372098284878,2775.0671909451426,2778.762283605407,2782.457376265672,2786.1524689259363,2789.8475615862008,2793.5426542464656,2797.23774690673,2800.9328395669945,2804.6279322272594,2808.323024887524,2812.0181175477883,2815.713210208053,2819.4083028683176,2823.1033955285825,2826.798488188847,2830.4935808491114,2834.1886735093763,2837.8837661696407,2841.578858829905,2845.27395149017,2848.9690441504345,2852.664136810699,2856.359229470964,2860.054322131228,2863.7494147914927,2867.4445074517575,2871.139600112022,2874.8346927722864,2878.5297854325513,2882.2248780928157,2885.91997075308,2889.615063413345,2893.3101560736095,2897.005248733874,2900.700341394139,2904.3954340544033,2908.0905267146677,2911.7856193749326,2915.480712035197,2919.1758046954615,2922.870897355726,2926.565990015991,2930.2610826762552,2933.9561753365197,2937.6512679967846,2941.346360657049,2945.0414533173134,2948.7365459775783,2952.4316386378428,2956.126731298107,2959.821823958372,2963.5169166186365,2967.212009278901,2970.907101939166,2974.6021945994303,2978.2972872596947,2981.9923799199596,2985.687472580224,2989.382565240489,2993.0776579007534,2996.772750561018,3000.4678432212827,3004.162935881547,3007.8580285418116,3011.5531212020765,3015.248213862341,3018.9433065226053,3022.63839918287,3026.3334918431347,3030.028584503399,3033.723677163664,3037.4187698239284,3041.113862484193,3044.8089551444577,3048.504047804722,3052.1991404649866,3055.8942331252515,3059.589325785516,3063.2844184457804,3066.9795111060453,3070.6746037663097,3074.369696426574,3078.064789086839,3081.7598817471035,3085.454974407368,3089.150067067633,3092.845159727897,3096.5402523881617,3100.2353450484266,3103.930437708691,3107.6255303689554,3111.3206230292203,3115.0157156894848,3118.710808349749,3122.405901010014,3126.1009936702785,3129.796086330543,3133.491178990808,3137.1862716510723,3140.8813643113367,3144.5764569716016,3148.271549631866,3151.9666422921305,3155.6617349523954,3159.35682761266,3163.0519202729242,3166.747012933189,3170.4421055934536,3174.137198253718,3177.832290913983,3181.5273835742473,3185.2224762345118,3188.9175688947767,3192.612661555041,3196.3077542153055,3200.0028468755704,3203.697939535835,3207.3930321960997,3211.088124856364,3214.7832175166286,3218.4783101768935,3222.173402837158,3225.8684954974224,3229.5635881576873,3233.2586808179517,3236.953773478216,3240.648866138481,3244.3439587987455,3248.03905145901,3251.734144119275,3255.429236779539,3259.1243294398037,3262.8194221000686,3266.514514760333,3270.2096074205974,3273.9047000808623,3277.5997927411267,3281.294885401391,3284.989978061656,3288.6850707219205,3292.380163382185,3296.07525604245,3299.7703487027143,3303.4654413629787,3307.1605340232436,3310.855626683508,3314.5507193437725,3318.2458120040374,3321.940904664302,3325.6359973245662,3329.331089984831,3333.0261826450956,3336.72127530536,3340.416367965625,3344.1114606258893,3347.8065532861538,3351.5016459464186,3355.196738606683,3358.8918312669475,3362.5869239272124,3366.282016587477,3369.9771092477413,3373.672201908006,3377.3672945682706,3381.062387228535,3384.7574798888,3388.4525725490644,3392.147665209329,3395.8427578695937,3399.537850529858,3403.2329431901226,3406.9280358503875,3410.623128510652,3414.3182211709163,3418.013313831181,3421.7084064914457,3425.40349915171,3429.098591811975,3432.7936844722394,3436.4887771325043,3440.1838697927687,3443.878962453033,3447.574055113298,3451.2691477735625,3454.964240433827,3458.659333094092,3462.3544257543563,3466.0495184146207,3469.7446110748856,3473.43970373515,3477.1347963954145,3480.8298890556794,3484.524981715944,3488.2200743762082,3491.915167036473,3495.6102596967376,3499.305352357002,3503.000445017267,3506.6955376775313,3510.3906303377958,3514.0857229980606,3517.780815658325,3521.4759083185895,3525.1710009788544,3528.866093639119,3532.5611862993833,3536.256278959648,3539.9513716199126,3543.646464280177,3547.341556940442,3551.0366496007064,3554.731742260971,3558.4268349212357,3562.1219275815,3565.8170202417646,3569.5121129020295,3573.207205562294,3576.9022982225583,3580.597390882823,3584.2924835430877,3587.987576203352,3591.682668863617,3595.3777615238814,3599.072854184146,3602.7679468444107,3606.463039504675,3610.1581321649396,3613.8532248252045,3617.548317485469,3621.2434101457334,3624.9385028059983,3628.6335954662627,3632.328688126527,3636.023780786792,3639.7188734470565,3643.413966107321,3647.109058767586,3650.8041514278502,3654.499244088115,3658.1943367483796,3661.889429408644,3665.584522068909,3669.2796147291733,3672.9747073894378,3676.6698000497026,3680.364892709967,3684.0599853702315,3687.7550780304964,3691.450170690761,3695.1452633510253,3698.84035601129,3702.5354486715546,3706.230541331819,3709.925633992084,3713.6207266523484,3717.315819312613,3721.0109119728777,3724.706004633142,3728.4010972934066,3732.0961899536715,3735.791282613936,3739.4863752742003,3743.181467934465,3746.8765605947297,3750.571653254994,3754.266745915259,3757.9618385755234,3761.656931235788,3765.3520238960527,3769.047116556317,3772.7422092165816,3776.4373018768465,3780.132394537111,3783.8274871973754,3787.5225798576403,3791.2176725179047,3794.912765178169,3798.607857838434,3802.3029504986985,3805.998043158963,3809.693135819228,3813.388228479492,3817.0833211397567,3820.7784138000216,3824.473506460286,3828.1685991205504,3831.8636917808153,3835.5587844410798,3839.253877101344,3842.948969761609,3846.6440624218735,3850.339155082138,3854.034247742403,3857.7293404026673,3861.4244330629317,3865.1195257231966,3868.814618383461,3872.5097110437255,3876.2048037039904,3879.899896364255,3883.5949890245197,3887.290081684784,3890.9851743450486,3894.6802670053135,3898.375359665578,3902.0704523258423,3905.765544986107,3909.4606376463717,3913.155730306636,3916.850822966901,3920.5459156271654,3924.24100828743,3927.9361009476947,3931.631193607959,3935.3262862682236,3939.0213789284885,3942.716471588753,3946.4115642490174,3950.1066569092823,3953.8017495695467,3957.496842229811,3961.191934890076,3964.8870275503405,3968.582120210605,3972.27721287087,3975.972305531134,3979.6673981913987,3983.3624908516636,3987.057583511928,3990.7526761721924,3994.4477688324573,3998.1428614927217,4001.837954152986,4005.533046813251,4009.2281394735155,4012.92323213378,4016.618324794045,4020.3134174543093,4024.0085101145737,4027.7036027748386,4031.398695435103,4035.0937880953675,4038.7888807556324,4042.483973415897,4046.1790660761612,4049.874158736426,4053.5692513966906,4057.264344056955,4060.95943671722,4064.6545293774843,4068.3496220377488,4072.0447146980136,4075.739807358278,4079.4349000185425,4083.1299926788074,4086.825085339072,4090.5201779993363,4094.215270659601,4097.910363319866,4101.6054559801305,4105.300548640395,4108.995641300659,4112.690733960924,4116.385826621189,4120.080919281453,4123.776011941718,4127.471104601983,4131.166197262247,4134.861289922512,4138.556382582777,4142.251475243041,4145.946567903306,4149.64166056357,4153.336753223834,4157.031845884099,4160.726938544364,4164.422031204628,4168.117123864893,4171.812216525158,4175.507309185422,4179.202401845687,4182.897494505952,4186.592587166216,4190.287679826481,4193.9827724867455,4197.6778651470095,4201.372957807274,4205.068050467539,4208.763143127803,4212.458235788068,4216.153328448333,4219.848421108597,4223.543513768862,4227.238606429127,4230.933699089391,4234.628791749656,4238.3238844099205,4242.0189770701845,4245.714069730449,4249.409162390714,4253.104255050978,4256.799347711243,4260.494440371508,4264.189533031772,4267.884625692037,4271.579718352302,4275.274811012566,4278.969903672831,4282.664996333096,4286.36008899336,4290.0551816536245,4293.750274313889,4297.445366974153,4301.140459634418,4304.835552294683,4308.530644954947,4312.225737615212,4315.920830275477,4319.615922935742,4323.311015596006,4327.006108256271,4330.7012009165355,4334.3962935767995,4338.091386237064,4341.786478897329,4345.481571557593,4349.176664217858,4352.871756878123,4356.566849538387,4360.261942198652,4363.957034858917,4367.652127519181,4371.347220179446,4375.042312839711,4378.737405499975,4382.432498160239,4386.127590820504,4389.822683480768,4393.517776141033,4397.212868801298,4400.907961461562,4404.603054121827,4408.298146782092,4411.993239442356,4415.688332102621,4419.383424762886,4423.07851742315,4426.7736100834145,4430.468702743679,4434.163795403943,4437.858888064208,4441.553980724473,4445.249073384737,4448.944166045002,4452.639258705267,4456.334351365531,4460.029444025796,4463.724536686061,4467.419629346325,4471.11472200659,4474.809814666854,4478.504907327118,4482.199999987383,4485.895092647648,4489.590185307912,4493.285277968177,4496.980370628442,4500.675463288706,4504.370555948971,4508.065648609236,4511.7607412695,4515.455833929765,4519.1509265900295,4522.8460192502935,4526.541111910558,4530.236204570823,4533.931297231087,4537.626389891352,4541.321482551617,4545.016575211881,4548.711667872146,4552.406760532411,4556.101853192675,4559.79694585294],\"xaxis\":\"x\",\"y\":[3.14053179141956e-185,1.101847001752501e-183,3.807595497426268e-182,1.2959603818609328e-180,4.344542559002318e-179,1.434523928594765e-177,4.665336223015663e-176,1.494409120731649e-174,4.714845664263052e-173,1.4651323678651363e-171,4.4843309326911835e-170,1.3518542079998164e-168,4.013963968356607e-167,1.1738929444920346e-165,3.3813873628572313e-164,9.59340475915119e-163,2.6807852275413944e-161,7.378408317076312e-160,2.0002061529684254e-158,5.3407007324541725e-157,1.4045368467244546e-155,3.638140286021615e-154,9.281905787069686e-153,2.332417443507333e-151,5.772804043581397e-150,1.4072743142457146e-148,3.378952730972289e-147,7.990921825008038e-146,1.8613286314925422e-144,4.270322196952306e-143,9.649607310882353e-142,2.147682343041201e-140,4.708058638767238e-139,1.016541446066486e-137,2.1618209804426467e-136,4.5282018173328554e-135,9.342072475542098e-134,1.8983316996958872e-132,3.7993769000403996e-131,7.489693855506905e-130,1.4542101261922093e-128,2.781004381253714e-127,5.2382665267588565e-126,9.718179599099591e-125,1.77579839901012e-123,3.196051800170202e-122,5.665592952615207e-121,9.892096379142947e-120,1.70115042945061e-118,2.881432892103277e-117,4.807128261425138e-116,7.899040137573356e-115,1.2784223116069868e-113,2.0379136238849056e-112,3.199695231033897e-111,4.948150103108485e-110,7.536826665420725e-109,1.1306953322309448e-107,1.6707600473457904e-106,2.4316102975256282e-105,3.4856620372710804e-104,4.921392344201447e-103,6.843875686911387e-102,9.374058200809855e-101,1.2646332292348685e-99,1.6804010441528248e-98,2.199240408677419e-97,2.8349400586108916e-96,3.599369771357354e-95,4.5011186330633955e-94,5.544033734651739e-93,6.72578033624288e-92,8.03657319155082e-91,9.458244568275385e-90,1.0963812133758645e-88,1.2517685646456496e-87,1.4076604444485633e-86,1.5591330699132278e-85,1.7009042630424468e-84,1.8276286870520013e-83,1.9342271414585067e-82,2.0162221899590768e-81,2.0700494369784627e-80,2.093314370600113e-79,2.0849690021364958e-78,2.045390151335723e-77,1.9763512309842987e-76,1.8808904738963878e-75,1.7630892418083383e-74,1.6277829460806576e-73,1.4802330717970468e-72,1.3257911701981188e-71,1.1695843586694148e-70,1.0162472683775279e-69,8.697183655859481e-69,7.3311026587010465e-68,6.086552484065356e-67,4.977197240915727e-66,4.008757102042655e-65,3.180138562996594e-64,2.484813250286025e-63,1.9122861321246856e-62,1.4495173133750637e-61,1.0821945656253077e-60,7.957904089982257e-60,5.763727804043313e-59,4.111683102250036e-58,2.8889978434503567e-57,1.999337954057436e-56,1.3628140847831967e-55,9.149522438731838e-55,6.05022672966225e-54,3.940544928874913e-53,2.5278559811652488e-52,1.5972017648537882e-51,9.939822879283253e-51,6.0926877355572345e-50,3.678329284606999e-49,2.1872765638820714e-48,1.2810562649655975e-47,7.389994582208834e-47,4.1988604934956875e-46,2.349796113888154e-45,1.2952104125063253e-44,7.031725088919079e-44,3.760060645409446e-43,1.980337567448093e-42,1.0272946183272455e-41,5.248826410282467e-41,2.6414404074169405e-40,1.309274877231692e-39,6.391933708391094e-39,3.073584094097098e-38,1.4556915066274926e-37,6.7905508597295954e-37,3.11998190181833e-36,1.4119215064738917e-35,6.293329089288048e-35,2.7628782112429918e-34,1.1946878605838507e-33,5.088134351777417e-33,2.134391585178601e-32,8.81862834572779e-32,3.588718472257729e-31,1.4384313856200283e-30,5.6787182424666305e-30,2.2081211719822772e-29,8.456816221925101e-29,3.190085287118938e-28,1.185247657135503e-27,4.337378547819421e-27,1.5633526675511853e-26,5.550064126517324e-26,1.9406644635075381e-25,6.683659488299703e-25,2.267198724237893e-24,7.574888968982465e-24,2.4927249725512047e-23,8.079488513916496e-23,2.579317361574168e-22,8.110303475494212e-22,2.51177561070805e-21,7.661891246968615e-21,2.3019852560287935e-20,6.812091962997148e-20,1.9854999346189062e-19,5.699944960989567e-19,1.6116949953936345e-18,4.488554087019309e-18,1.2312364908610718e-17,3.326502884069253e-17,8.852088361288416e-17,2.3201442479744915e-16,5.989569976678448e-16,1.5229572401793281e-15,3.814092196100226e-15,9.408189880377035e-15,2.2857691729172564e-14,5.469782769872769e-14,1.2891967340127004e-13,2.992813985065438e-13,6.843080718283718e-13,1.5411148710135515e-12,3.418454232710741e-12,7.468543908949235e-12,1.6071392869728762e-11,3.406296959807309e-11,7.110872740647162e-11,1.4620920512624175e-10,2.960996785655675e-10,5.906260066153001e-10,1.1603756489279712e-9,2.2454120908270487e-9,4.2796171337742316e-9,8.033877188615869e-9,1.4854460035272586e-8,2.705203627012234e-8,4.8523761852729884e-8,8.572754252950534e-8,1.4917556671401058e-7,2.5567391911278804e-7,4.3160510318097686e-7,7.176259315803713e-7,1.1752251760968578e-6,1.8956382337717537e-6,3.0116274213968645e-6,4.712576750107105e-6,7.263183892821149e-6,0.000011025722401082986,0.000016485361612375266,0.0000242773518358691,0.000035214015969322604,0.000050308481814697006,0.00007079103737550401,0.00009811304436586671,0.00013393270402965355,0.0001800768697117679,0.00023847378154741864,0.0003110532579729913,0.00039961361898650484,0.0005056583895534979,0.0006302103971056667,0.0007736157815866638,0.0009353550336213655,0.001113881689899765,0.001306510945719489,0.001509379510447709,0.0017174941170603134,0.0019248791852449858,0.002124824692380267,0.0023102242761196936,0.0024739823214259926,0.0026094588396798324,0.002710913873137394,0.002773910212533099,0.002795635129353306,0.00277510863583285,0.002713256792627167,0.002612842425268634,0.0024782604699962784,0.002315219066330642,0.002130338622924377,0.001930708027350976,0.0017234392266596967,0.001515258591287778,0.001312166502717909,0.0011191867211553632,0.0009402158341895102,0.0007779720298394142,0.0006340329317802638,0.0005089452419608461,0.0004023849339679284,0.0003133457255822136,0.00024033512531191394,0.000181560818448461,0.00013509473559113145,0.00009900705208931899,0.0000714669493205087,0.000050810769069562344,0.000035580963409801054,0.000024540931770134335,0.00001667154323767061,0.000011155061485695918,7.3515606407887465e-6,4.771979064588176e-6,3.050906692844758e-6,1.9211918330693926e-6,1.1915820384589436e-6,7.279282510290834e-7,4.379904201048294e-7,2.595685425238741e-7,1.5151335527225625e-7,8.710862995531638e-8,4.93267907613102e-8,2.75116063468803e-8,1.5113339795559182e-8,8.177420959262369e-9,4.357964353215961e-9,2.287506844648406e-9,1.1826399380384097e-9,6.022184964840696e-10,3.0204179988891707e-10,1.4920776296179075e-10,7.25984249960416e-11,3.4791598980483535e-11,1.6422262471902065e-11,7.634893781655173e-12,3.496104617833067e-12,1.5768023221208652e-12,7.004570195411395e-13,3.064764744553461e-13,1.3207609031256236e-13,5.6061236988104856e-14,2.343756870053871e-14,9.6510341010747e-15,3.91423190405539e-15,1.5636180132442501e-15,6.152139685989511e-16,2.38414750120465e-16,9.100211034260043e-17,3.421221692921491e-17,1.2668417882823526e-17,4.620350840692067e-18,1.6597357110264412e-18,5.872382457182304e-19,2.0464499944787863e-19,7.024240158030032e-20,2.3747012260175996e-20,7.907332689797805e-21,2.5933579025856115e-21,8.377343284775124e-22,2.6653949951159224e-22,8.352726357639121e-23,2.5781390671380044e-23,7.837829939657083e-24,2.3469116603699985e-24,6.92164082722074e-25,2.010632908106961e-25,5.752649627214703e-26,1.6211174137166892e-26,4.4995846701823866e-27,1.2301039024545794e-27,3.3122459236463527e-28,8.7844537878462e-29,2.2946600831465957e-29,5.9038235565843356e-30,1.496097125113386e-30,3.7342003684268477e-31,9.180088261639685e-32,2.222836432050371e-32,5.301265629771012e-33,1.2452685956984725e-33,2.881097236745661e-34,6.565445585574331e-35,1.4736077835492685e-35,3.257699472599684e-36,7.0933524363694215e-37,1.5212600826316046e-37,3.213414958898739e-38,6.685618064943237e-39,1.3700225781893016e-39,2.7651920300788847e-40,5.497108116505897e-41,1.0763528650039066e-41,2.0758046180745873e-42,3.9430264165152435e-43,7.377076884542646e-44,1.3594096328263223e-44,2.4673331088237153e-45,4.4107926299140294e-46,7.766349025257808e-47,1.3468789896457284e-47,2.300655872503388e-48,3.870670095705961e-49,6.414045877272257e-50,1.0468618584416162e-50,1.6828991927936155e-51,2.664638125828908e-52,4.1555621613666737e-53,6.383116030030445e-54,9.65710836991593e-55,1.4390400508522344e-55,2.112078558505239e-56,3.053223977842705e-57,4.347290591304146e-58,6.096633502854409e-59,8.42117932677742e-60,1.1456900810517524e-60,1.5352277110931423e-61,2.0262352145427644e-62,2.634015504274681e-63,3.3725485110971466e-64,4.253138191589688e-65,5.282897599695656e-66,6.463180750879218e-67,7.788105408778103e-68,9.243336216041967e-69,1.0805306486878799e-69,1.2441044393131184e-70,1.4108732514747028e-71,1.5759069472834719e-72,1.733742321117437e-73,1.8786675816979016e-74,2.0050570869687815e-75,2.1077298846354493e-76,2.182300612592385e-77,2.2254897895847394e-78,2.2353629469302105e-79,2.2114743157583298e-80,2.154900202526487e-81,2.0681585718648858e-82,1.9550232065673374e-83,1.820251550828395e-84,1.66925356625117e-85,1.507733644207427e-86,1.3413383740707759e-87,1.1753399091543752e-88,1.0143784795667792e-89,8.622793406779548e-91,7.219503732403303e-92,5.953578985640761e-93,4.835710627387351e-94,3.868600640364964e-95,3.048308411612922e-96,2.3657852503733874e-97,1.808436006494924e-98,1.361577547135495e-99,1.0097015596778478e-100,7.37488212585511e-102,5.305527252561337e-103,3.759355759514712e-104,2.623673042786231e-105,1.8035052469017482e-106,1.221058629932826e-107,8.142673758132226e-109,5.348216290252952e-110,3.459890070473423e-111,2.2045860168108264e-112,1.3835765950141084e-113,8.552454556950966e-115,5.207026093005561e-116,3.1224834337302434e-117,1.844259129768704e-118,1.0728898863431593e-119,6.147517461298676e-121,3.469411396545826e-122,1.9285159750618195e-123,1.0558496758777126e-124,5.6936707751958454e-126,3.0240851947270802e-127,1.5820022717532384e-128,8.151388527988301e-130,4.136828293642999e-131,2.0678298800873226e-132,1.018060361209691e-133,4.936778705991822e-135,2.3578990216545693e-136,1.1092211824404414e-137,5.139519487274737e-139,2.3455154058353973e-140,1.0543030739964102e-141,4.667712149489964e-143,2.0354201487408028e-144,8.742094220006357e-146,3.698182223451087e-147,1.5408932073610425e-148,6.323655245047861e-150,2.556084691529144e-151,1.0176389096672152e-152,3.9904656691162196e-154,1.5412208083711817e-155,5.862968477153949e-157,2.1967552078049372e-158,8.106944135800202e-160,2.946755523445662e-161,1.0549756660762706e-162,3.720079222700864e-164,1.2920322237215394e-165,4.419833527418779e-167,1.4891892378117194e-168,4.942028847657985e-170,1.6153702248497682e-171,5.2005620337559215e-173,1.6490730676952847e-174,5.1503996160047904e-176,1.5843581608559503e-177,4.8003976408482493e-179,1.4325588510814301e-180,4.210746934682404e-182,1.219037934135903e-183,3.4760555607946585e-185,9.762647511652131e-187,2.700597857335699e-188,7.358065316393826e-190,1.9745983456205823e-191,5.21921646181329e-193,1.358761584222715e-194,3.484116116595696e-196,8.799406712991705e-198,2.188898243057873e-199,5.363016882123897e-201,1.2942082552427226e-202,3.0761717359270444e-204,7.201590116299462e-206,1.6605716982493238e-207,3.77136246402353e-209,8.436267206677848e-211,1.8587192202638025e-212,4.033561313072684e-214,8.621343444543936e-216,1.814983326675256e-217,3.7634118103450205e-219,7.686033223781699e-221,1.546087900968394e-222,3.0632152534565563e-224,5.977674467491347e-226,1.1489428195327867e-227,2.175083732471073e-229,4.0556919010973365e-231,7.448440295413164e-233,1.347339792776524e-234,2.400492439183309e-236,4.212451934576651e-238,7.280831574243615e-240,1.2394768541540985e-241,2.078295359519508e-243,3.432318054707118e-245,5.5831486619458574e-247,8.945039635031795e-249,1.4115515939811535e-250,2.1939294330037186e-252,3.3586129832822607e-254,5.06417471671251e-256,7.520882592883197e-258,1.1001207282180307e-259,1.5849782116272088e-261,2.24914603892243e-263,3.143572093020023e-265,4.327535150408235e-267,5.867717460945553e-269,7.836266433868451e-271,1.0307672314993964e-272,1.3354370591527537e-274,1.7041101158190001e-276,2.141821605590427e-278,2.6514311004326067e-280,3.2328742140629576e-282,3.882475095453868e-284,4.592402663294497e-286,5.350355654943834e-288,6.139553015390667e-290,6.9390859374050365e-292,7.724656715927571e-294,8.469690119084899e-296,9.146759579267241e-298,9.729228804708958e-300,1.0192975496095395e-301,1.0518043282192888e-303,1.0690072123610089e-305,1.0774014885624938e-307,7.521169501238655e-308,7.448835506601209e-306,7.369494474196834e-304,7.181232927986382e-302,6.892420092945705e-300,6.515621928846343e-298,6.066684682349045e-296,5.563631788209425e-294,5.025470719187162e-292,4.4710190903805016e-290,3.9178491636705405e-288,3.381429284230547e-286,2.8745132668355416e-284,2.4067985188197536e-282,1.9848448459641167e-280,1.6122218490636617e-278,1.2898358725975979e-276,1.0163785951168436e-274,7.88838283599475e-273,6.030201978812876e-271,4.540327168224812e-269,3.3670832037698102e-267,2.4594157980221718e-265,1.7693814858195603e-263,1.253783092873291e-261,8.750537893336691e-260,6.015316745598767e-258,4.072805418491013e-256,2.71606546284268e-254,1.7840138213125394e-252,1.154164219202539e-250,7.354419664870322e-249,4.6157323803148674e-247,2.8532790189603773e-245,1.7372378201019335e-243,1.0418032748802166e-241,6.153519360050743e-240,3.5799159847484125e-238,2.051320442191979e-236,1.157725479897002e-234,6.43560062901524e-233,3.523578809611624e-231,1.900160578522372e-229,1.0092715431304648e-227,5.280039396568029e-226,2.720681527468794e-224,1.3807964538959867e-222,6.902287236699578e-221,3.39834764147967e-219,1.6479877900316978e-217,7.87139280817918e-216,3.703058660726098e-214,1.715856673756497e-212,7.830920857439612e-211,3.5201086761962054e-209,1.558514038794385e-207,6.796366271091864e-206,2.9191354253074762e-204,1.2349322179732046e-202,5.145687513347519e-201,2.1118112882472648e-199,8.536467972779656e-198,3.39869923516277e-196,1.3327805999955437e-194,5.147732862282482e-193,1.9583249207066385e-191,7.33778377201351e-190,2.70804875801671e-188,9.843724700104406e-187,3.524307947572837e-185,1.242795435300774e-183,4.316550835022903e-182,1.4766768976916434e-180,4.975600597700201e-179,1.6512656715196244e-177,5.3975888948389796e-176,1.737777080739251e-174,5.5106107712741875e-173,1.7211424600864733e-171,5.294748192333503e-170,1.6042986316084379e-168,4.787805789890492e-167,1.40734070250628e-165,4.074491172922441e-164,1.161873708672068e-162,3.26329156059909e-161,9.027432325067686e-160,2.459710613994836e-158,6.601083086784074e-157,1.7448487770651543e-155,4.5426763697602434e-154,1.1648693344090395e-152,2.942077016413066e-151,7.31884032679865e-150,1.7932544517607933e-148,4.327658403399544e-147,1.0286684947922141e-145,2.4082929522577453e-144,5.553344311005183e-143,1.2612793841994214e-141,2.8214957713778897e-140,6.2166858343949745e-139,1.349117722698468e-137,2.8837139916374413e-136,6.071079668600953e-135,1.258899582742473e-133,2.571151441221572e-132,5.172203876317681e-131,1.0247903416631082e-129,1.9998886797521425e-128,3.844041173633159e-127,7.277490540943068e-126,1.3570213445120083e-124,2.4923160714516252e-123,4.508488513069894e-122,8.032860540906092e-121,1.4096811651226168e-119,2.4365929161930963e-118,4.148169248382594e-117,6.955708418080549e-116,1.1487821503821355e-114,1.8687250183045963e-113,2.9940877963635412e-112,4.7249266677556574e-111,7.3440736601554e-110,1.1243211643807723e-108,1.6953335553723757e-107,2.51785861892196e-106,3.683145983629798e-105,5.3066193388298604e-104,7.530578642642563e-103,1.0525680213976771e-101,1.4490501116012809e-100,1.964843878675045e-99,2.6241224811771437e-98,3.4518472233148286e-97,4.47229497322282e-96,5.7071688864074053e-95,7.17335656766169e-94,8.8804612534641e-93,1.0828293997573973e-91,1.3004569019255044e-90,1.5383080026758127e-89,1.7922642620345505e-88,2.0567059327894897e-87,2.324629618329976e-86,2.5878955461714837e-85,2.8375997005619414e-84,3.0645515157056745e-83,3.259823852602661e-82,3.415330608550716e-81,3.5243804024984596e-80,3.582153691291567e-79,3.5860559645040263e-78,3.5359109653955675e-77,3.4339738928509754e-76,3.284763206815004e-75,3.0947285113524516e-74,2.871788518460681e-73,2.6247851713966565e-72,2.362906206773623e-71,2.095128248785516e-70,1.8297263910664924e-69,1.5738853830736578e-68,1.333433808100844e-67,1.1127080560950034e-66,9.145393841624355e-66,7.4034645907737785e-65,5.903084561282218e-64,4.635903803488608e-63,3.5859252887231644e-62,2.7319922846134446e-61,2.050071982208542e-60,1.5152006998826117e-59,1.1030180628821101e-58,7.908725404464224e-58,5.58523922573246e-57,3.8849771812260524e-56,2.6616232116950806e-55,1.7960403467387678e-54,1.193704997338614e-53,7.814286782197704e-53,5.038405177165455e-52,3.1996925022639815e-51,2.001404205107853e-50,1.2330275560717739e-49,7.482076894022644e-49,4.471806080119675e-48,2.6324199122762707e-47,1.5262960581693177e-46,8.716332888393577e-46,4.902755594827729e-45,2.7161771411337104e-44,1.4821335771324204e-43,7.965774584217678e-43,4.2167717063448435e-42,2.1985865966383768e-41,1.1290637734403792e-40,5.7109029556246e-40,2.8451325077294593e-39,1.3960842432097637e-38,6.747333295785302e-38,3.2119155020627347e-37,1.5059393094620994e-36,6.954441181320422e-36,3.163212856248872e-35,1.4171179726563475e-34,6.253094689732617e-34,2.717661829252937e-33,1.1633415352231682e-32,4.9049034609129867e-32,2.036878405686177e-31,8.331268942059047e-31,3.356360602314423e-30,1.3317953225273497e-29,5.204964431851391e-29,2.0035927760334264e-28,7.596482793025537e-28,2.8367892332191432e-27,1.0434051876417865e-26,3.7799871507095714e-26,1.3487736276268447e-25,4.740227854999648e-25,1.6408571754092808e-24,5.594403066734778e-24,1.8786597737664254e-23,6.213752193428804e-23,2.0242825569079016e-22,6.495307952213265e-22,2.0527675333102243e-21,6.3898579591144084e-21,1.9590884694767094e-20,5.916001874997221e-20,1.7596000580329174e-19,5.154790773390962e-19,1.4873717466043663e-18,4.227069835497074e-18,1.1832342393318733e-17,3.262221488287184e-17,8.858650544997159e-17,2.3693712049940973e-16,6.241802926827735e-16,1.6195650980981837e-15,4.139026203445998e-15,1.0418599719306881e-14,2.5830448086014115e-14,6.307626040323567e-14,1.5170899978332568e-13,3.593917991798988e-13,8.385643416846782e-13,1.9271522623868645e-12,4.362215109065902e-12,9.725446213383772e-12,2.1356171766988625e-11,4.619007679671569e-11,9.839779663302001e-11,2.0645883536187286e-10,4.2667085967978095e-10,8.684881613804709e-10,1.7411902755549118e-9,3.438269963918567e-9,6.687212498551392e-9,1.2810370328366525e-8,2.4170723801894693e-8,4.491889218804718e-8,8.222044601990761e-8,1.4823202105569535e-7,2.6321803450306294e-7,4.6036326753060777e-7,7.930436575783281e-7,1.3455657951843565e-6,2.2486620544188052e-6,3.701304832587153e-6,6.000631084082667e-6,9.581873007967561e-6,0.000015070071201795538,0.000023344877964077296,0.00003561880311567834,0.000053527683149039925,0.000079229876780808,0.000115507697041121,0.0001658610001651772,0.00023457895374023733,0.0003267722888901385,0.000448345490147788,0.0006058872329055861,0.0008064588406056142,0.0010572654083988488,0.001365203048800792,0.0017362884888038753,0.0021749933462304016,0.0026835234184154773,0.003261101053630478,0.0039033233905820044,0.004601677955378973,0.005343297060305039,0.006111021721677654,0.006883823802424254,0.007637602893738657,0.008346335012577224,0.008983508061221727,0.00952373979605058,0.00994444365152648,0.010227391293603954,0.01036002168450171,0.010336365774646564,0.01015749200360387,0.009831426296259655,0.009372554905517215,0.008800572003996119,0.008139079271198483,0.007413976089469266,0.006651792797290153,0.00587811489163626,0.0051162249485612425,0.004386055389007359,0.0037035045118907362,0.0030801263403504205,0.0025231671561173207,0.002035892237270084,0.0016181276526131153,0.0012669345640369334,0.0009773362934979999,0.0007430291899791617,0.0005570242162615104,0.0004121842075491152,0.0003016393336451374,0.00021907847672678732,0.00015892585147512297,0.000116419832838313,0.00008761482863672633,0.00006932777297079876,0.000059049270425825094,0.000054836470313488975,0.000055201170759913874,0.00005900303792315328,0.00006535456122591334,0.00007354164364323466,0.00008296158826580083,0.00009307863229266683,0.00010339599532345275,0.0001134425448568168,0.00012277155696789125,0.00013096861920199734,0.0001376654753809909,0.0001425565609407092,0.0001454151416771915,0.00014610635696650658,0.00014459506580898198,0.00014094715602411126,0.00013532383132156258,0.00012796924659684572,0.00011919262243058963,0.00010934654990900775,0.00009880353587624215,0.00008793291036734371,0.00007708003373774699,0.00006654934658549563,0.00005659227163300082,0.000047400386160139794,0.00003910371767591634,0.00003177354198449872,0.00002542872733158911,0.00002004449088974719,0.000015562409749503358,0.000011900633267589163,8.963439854155605e-6,6.649527026238749e-6,4.8586790588159416e-6,3.4966895844109565e-6,2.4786052054283297e-6,1.7304898056362485e-6,1.1899867977632386e-6,8.059844284364142e-7,5.376783748677622e-7,3.5328882338201575e-7,2.286381182789698e-7,1.4574000704780639e-7,9.149984227263726e-8,5.658135125189664e-8,3.4461779121187234e-8,2.0673475056588023e-8,1.2215202880562024e-8,7.10884908809084e-9,4.074828315050289e-9,2.300545070414899e-9,1.279274040053676e-9,7.006608282082903e-10,3.779753687985135e-10,2.0083091688755723e-10,1.0510153352072703e-10,5.417500309320601e-11,2.7504277872300797e-11,1.375349137392466e-11,6.773873499271609e-12,3.28603825357002e-12,1.5700719611700306e-12,7.388868052336159e-13,3.4248982580673267e-13,1.563611472634137e-13,7.031070169779504e-14,3.11404888763421e-14,1.358441155736674e-14,5.8367036759316326e-15,2.4700507127517143e-15,1.0295691118995302e-15,4.226847215205147e-16,1.7091847347839956e-16,6.80726834418823e-17,2.6703497485736467e-17,1.0317508438147044e-17,3.926385425293862e-18,1.4717106592526995e-18,5.433295830552711e-19,1.9756757938650205e-19,7.075863004053691e-20,2.4960573708653133e-20,8.672436342086448e-21,2.96783046368141e-21,1.0003419147222755e-21,3.321002896780485e-22,1.0859290538200798e-22,3.4973980317246255e-23,1.1094304460831286e-23,3.466302888104715e-24,1.0667050427551882e-24,3.233207649057149e-25,9.652376578706795e-26,2.8382217705769115e-26,8.219961946190572e-27,2.344794016767604e-27,6.587960668604586e-28,1.823092516407723e-28,4.9691010580451077e-29,1.3340077734638635e-29,3.5273641897132775e-30,9.186575593875484e-31,2.3565052670522513e-31,5.953804729365771e-32,1.48160409216877e-32,3.631459133461405e-33,8.766809382645238e-34,2.084555087662411e-34,4.881986785208914e-35,1.1261370128581504e-35,2.55856983954754e-36,5.72551727988826e-37,1.2619542005111373e-37,2.739579246586552e-38,5.857813651993686e-39,1.2336689844239885e-39,2.559016882090712e-40,5.228282741636308e-41,1.0520984746683529e-41,2.085283593255322e-42,4.070851609531976e-43,7.82738737619498e-44,1.4823808414890142e-44,2.7651211852583462e-45,5.080190008196594e-46],\"yaxis\":\"y\",\"type\":\"scatter\"}],                        {\"template\":{\"data\":{\"histogram2dcontour\":[{\"type\":\"histogram2dcontour\",\"colorbar\":{\"outlinewidth\":0,\"ticks\":\"\"},\"colorscale\":[[0.0,\"#0d0887\"],[0.1111111111111111,\"#46039f\"],[0.2222222222222222,\"#7201a8\"],[0.3333333333333333,\"#9c179e\"],[0.4444444444444444,\"#bd3786\"],[0.5555555555555556,\"#d8576b\"],[0.6666666666666666,\"#ed7953\"],[0.7777777777777778,\"#fb9f3a\"],[0.8888888888888888,\"#fdca26\"],[1.0,\"#f0f921\"]]}],\"choropleth\":[{\"type\":\"choropleth\",\"colorbar\":{\"outlinewidth\":0,\"ticks\":\"\"}}],\"histogram2d\":[{\"type\":\"histogram2d\",\"colorbar\":{\"outlinewidth\":0,\"ticks\":\"\"},\"colorscale\":[[0.0,\"#0d0887\"],[0.1111111111111111,\"#46039f\"],[0.2222222222222222,\"#7201a8\"],[0.3333333333333333,\"#9c179e\"],[0.4444444444444444,\"#bd3786\"],[0.5555555555555556,\"#d8576b\"],[0.6666666666666666,\"#ed7953\"],[0.7777777777777778,\"#fb9f3a\"],[0.8888888888888888,\"#fdca26\"],[1.0,\"#f0f921\"]]}],\"heatmap\":[{\"type\":\"heatmap\",\"colorbar\":{\"outlinewidth\":0,\"ticks\":\"\"},\"colorscale\":[[0.0,\"#0d0887\"],[0.1111111111111111,\"#46039f\"],[0.2222222222222222,\"#7201a8\"],[0.3333333333333333,\"#9c179e\"],[0.4444444444444444,\"#bd3786\"],[0.5555555555555556,\"#d8576b\"],[0.6666666666666666,\"#ed7953\"],[0.7777777777777778,\"#fb9f3a\"],[0.8888888888888888,\"#fdca26\"],[1.0,\"#f0f921\"]]}],\"heatmapgl\":[{\"type\":\"heatmapgl\",\"colorbar\":{\"outlinewidth\":0,\"ticks\":\"\"},\"colorscale\":[[0.0,\"#0d0887\"],[0.1111111111111111,\"#46039f\"],[0.2222222222222222,\"#7201a8\"],[0.3333333333333333,\"#9c179e\"],[0.4444444444444444,\"#bd3786\"],[0.5555555555555556,\"#d8576b\"],[0.6666666666666666,\"#ed7953\"],[0.7777777777777778,\"#fb9f3a\"],[0.8888888888888888,\"#fdca26\"],[1.0,\"#f0f921\"]]}],\"contourcarpet\":[{\"type\":\"contourcarpet\",\"colorbar\":{\"outlinewidth\":0,\"ticks\":\"\"}}],\"contour\":[{\"type\":\"contour\",\"colorbar\":{\"outlinewidth\":0,\"ticks\":\"\"},\"colorscale\":[[0.0,\"#0d0887\"],[0.1111111111111111,\"#46039f\"],[0.2222222222222222,\"#7201a8\"],[0.3333333333333333,\"#9c179e\"],[0.4444444444444444,\"#bd3786\"],[0.5555555555555556,\"#d8576b\"],[0.6666666666666666,\"#ed7953\"],[0.7777777777777778,\"#fb9f3a\"],[0.8888888888888888,\"#fdca26\"],[1.0,\"#f0f921\"]]}],\"surface\":[{\"type\":\"surface\",\"colorbar\":{\"outlinewidth\":0,\"ticks\":\"\"},\"colorscale\":[[0.0,\"#0d0887\"],[0.1111111111111111,\"#46039f\"],[0.2222222222222222,\"#7201a8\"],[0.3333333333333333,\"#9c179e\"],[0.4444444444444444,\"#bd3786\"],[0.5555555555555556,\"#d8576b\"],[0.6666666666666666,\"#ed7953\"],[0.7777777777777778,\"#fb9f3a\"],[0.8888888888888888,\"#fdca26\"],[1.0,\"#f0f921\"]]}],\"mesh3d\":[{\"type\":\"mesh3d\",\"colorbar\":{\"outlinewidth\":0,\"ticks\":\"\"}}],\"scatter\":[{\"fillpattern\":{\"fillmode\":\"overlay\",\"size\":10,\"solidity\":0.2},\"type\":\"scatter\"}],\"parcoords\":[{\"type\":\"parcoords\",\"line\":{\"colorbar\":{\"outlinewidth\":0,\"ticks\":\"\"}}}],\"scatterpolargl\":[{\"type\":\"scatterpolargl\",\"marker\":{\"colorbar\":{\"outlinewidth\":0,\"ticks\":\"\"}}}],\"bar\":[{\"error_x\":{\"color\":\"#2a3f5f\"},\"error_y\":{\"color\":\"#2a3f5f\"},\"marker\":{\"line\":{\"color\":\"#E5ECF6\",\"width\":0.5},\"pattern\":{\"fillmode\":\"overlay\",\"size\":10,\"solidity\":0.2}},\"type\":\"bar\"}],\"scattergeo\":[{\"type\":\"scattergeo\",\"marker\":{\"colorbar\":{\"outlinewidth\":0,\"ticks\":\"\"}}}],\"scatterpolar\":[{\"type\":\"scatterpolar\",\"marker\":{\"colorbar\":{\"outlinewidth\":0,\"ticks\":\"\"}}}],\"histogram\":[{\"marker\":{\"pattern\":{\"fillmode\":\"overlay\",\"size\":10,\"solidity\":0.2}},\"type\":\"histogram\"}],\"scattergl\":[{\"type\":\"scattergl\",\"marker\":{\"colorbar\":{\"outlinewidth\":0,\"ticks\":\"\"}}}],\"scatter3d\":[{\"type\":\"scatter3d\",\"line\":{\"colorbar\":{\"outlinewidth\":0,\"ticks\":\"\"}},\"marker\":{\"colorbar\":{\"outlinewidth\":0,\"ticks\":\"\"}}}],\"scattermapbox\":[{\"type\":\"scattermapbox\",\"marker\":{\"colorbar\":{\"outlinewidth\":0,\"ticks\":\"\"}}}],\"scatterternary\":[{\"type\":\"scatterternary\",\"marker\":{\"colorbar\":{\"outlinewidth\":0,\"ticks\":\"\"}}}],\"scattercarpet\":[{\"type\":\"scattercarpet\",\"marker\":{\"colorbar\":{\"outlinewidth\":0,\"ticks\":\"\"}}}],\"carpet\":[{\"aaxis\":{\"endlinecolor\":\"#2a3f5f\",\"gridcolor\":\"white\",\"linecolor\":\"white\",\"minorgridcolor\":\"white\",\"startlinecolor\":\"#2a3f5f\"},\"baxis\":{\"endlinecolor\":\"#2a3f5f\",\"gridcolor\":\"white\",\"linecolor\":\"white\",\"minorgridcolor\":\"white\",\"startlinecolor\":\"#2a3f5f\"},\"type\":\"carpet\"}],\"table\":[{\"cells\":{\"fill\":{\"color\":\"#EBF0F8\"},\"line\":{\"color\":\"white\"}},\"header\":{\"fill\":{\"color\":\"#C8D4E3\"},\"line\":{\"color\":\"white\"}},\"type\":\"table\"}],\"barpolar\":[{\"marker\":{\"line\":{\"color\":\"#E5ECF6\",\"width\":0.5},\"pattern\":{\"fillmode\":\"overlay\",\"size\":10,\"solidity\":0.2}},\"type\":\"barpolar\"}],\"pie\":[{\"automargin\":true,\"type\":\"pie\"}]},\"layout\":{\"autotypenumbers\":\"strict\",\"colorway\":[\"#636efa\",\"#EF553B\",\"#00cc96\",\"#ab63fa\",\"#FFA15A\",\"#19d3f3\",\"#FF6692\",\"#B6E880\",\"#FF97FF\",\"#FECB52\"],\"font\":{\"color\":\"#2a3f5f\"},\"hovermode\":\"closest\",\"hoverlabel\":{\"align\":\"left\"},\"paper_bgcolor\":\"white\",\"plot_bgcolor\":\"#E5ECF6\",\"polar\":{\"bgcolor\":\"#E5ECF6\",\"angularaxis\":{\"gridcolor\":\"white\",\"linecolor\":\"white\",\"ticks\":\"\"},\"radialaxis\":{\"gridcolor\":\"white\",\"linecolor\":\"white\",\"ticks\":\"\"}},\"ternary\":{\"bgcolor\":\"#E5ECF6\",\"aaxis\":{\"gridcolor\":\"white\",\"linecolor\":\"white\",\"ticks\":\"\"},\"baxis\":{\"gridcolor\":\"white\",\"linecolor\":\"white\",\"ticks\":\"\"},\"caxis\":{\"gridcolor\":\"white\",\"linecolor\":\"white\",\"ticks\":\"\"}},\"coloraxis\":{\"colorbar\":{\"outlinewidth\":0,\"ticks\":\"\"}},\"colorscale\":{\"sequential\":[[0.0,\"#0d0887\"],[0.1111111111111111,\"#46039f\"],[0.2222222222222222,\"#7201a8\"],[0.3333333333333333,\"#9c179e\"],[0.4444444444444444,\"#bd3786\"],[0.5555555555555556,\"#d8576b\"],[0.6666666666666666,\"#ed7953\"],[0.7777777777777778,\"#fb9f3a\"],[0.8888888888888888,\"#fdca26\"],[1.0,\"#f0f921\"]],\"sequentialminus\":[[0.0,\"#0d0887\"],[0.1111111111111111,\"#46039f\"],[0.2222222222222222,\"#7201a8\"],[0.3333333333333333,\"#9c179e\"],[0.4444444444444444,\"#bd3786\"],[0.5555555555555556,\"#d8576b\"],[0.6666666666666666,\"#ed7953\"],[0.7777777777777778,\"#fb9f3a\"],[0.8888888888888888,\"#fdca26\"],[1.0,\"#f0f921\"]],\"diverging\":[[0,\"#8e0152\"],[0.1,\"#c51b7d\"],[0.2,\"#de77ae\"],[0.3,\"#f1b6da\"],[0.4,\"#fde0ef\"],[0.5,\"#f7f7f7\"],[0.6,\"#e6f5d0\"],[0.7,\"#b8e186\"],[0.8,\"#7fbc41\"],[0.9,\"#4d9221\"],[1,\"#276419\"]]},\"xaxis\":{\"gridcolor\":\"white\",\"linecolor\":\"white\",\"ticks\":\"\",\"title\":{\"standoff\":15},\"zerolinecolor\":\"white\",\"automargin\":true,\"zerolinewidth\":2},\"yaxis\":{\"gridcolor\":\"white\",\"linecolor\":\"white\",\"ticks\":\"\",\"title\":{\"standoff\":15},\"zerolinecolor\":\"white\",\"automargin\":true,\"zerolinewidth\":2},\"scene\":{\"xaxis\":{\"backgroundcolor\":\"#E5ECF6\",\"gridcolor\":\"white\",\"linecolor\":\"white\",\"showbackground\":true,\"ticks\":\"\",\"zerolinecolor\":\"white\",\"gridwidth\":2},\"yaxis\":{\"backgroundcolor\":\"#E5ECF6\",\"gridcolor\":\"white\",\"linecolor\":\"white\",\"showbackground\":true,\"ticks\":\"\",\"zerolinecolor\":\"white\",\"gridwidth\":2},\"zaxis\":{\"backgroundcolor\":\"#E5ECF6\",\"gridcolor\":\"white\",\"linecolor\":\"white\",\"showbackground\":true,\"ticks\":\"\",\"zerolinecolor\":\"white\",\"gridwidth\":2}},\"shapedefaults\":{\"line\":{\"color\":\"#2a3f5f\"}},\"annotationdefaults\":{\"arrowcolor\":\"#2a3f5f\",\"arrowhead\":0,\"arrowwidth\":1},\"geo\":{\"bgcolor\":\"white\",\"landcolor\":\"#E5ECF6\",\"subunitcolor\":\"white\",\"showland\":true,\"showlakes\":true,\"lakecolor\":\"white\"},\"title\":{\"x\":0.05},\"mapbox\":{\"style\":\"light\"}}},\"xaxis\":{\"anchor\":\"y\",\"domain\":[0.0,1.0],\"title\":{\"text\":\"wave number (cm^-1)\"}},\"yaxis\":{\"anchor\":\"x\",\"domain\":[0.0,1.0],\"title\":{\"text\":\"Intensity (au)\"}},\"legend\":{\"tracegroupgap\":0},\"margin\":{\"t\":60}},                        {\"responsive\": true}                    ).then(function(){\n",
              "                            \n",
              "var gd = document.getElementById('20e683ff-02df-4ed1-b420-cd38923e0e64');\n",
              "var x = new MutationObserver(function (mutations, observer) {{\n",
              "        var display = window.getComputedStyle(gd).display;\n",
              "        if (!display || display === 'none') {{\n",
              "            console.log([gd, 'removed!']);\n",
              "            Plotly.purge(gd);\n",
              "            observer.disconnect();\n",
              "        }}\n",
              "}});\n",
              "\n",
              "// Listen for the removal of the full notebook cells\n",
              "var notebookContainer = gd.closest('#notebook-container');\n",
              "if (notebookContainer) {{\n",
              "    x.observe(notebookContainer, {childList: true});\n",
              "}}\n",
              "\n",
              "// Listen for the clearing of the current output cell\n",
              "var outputEl = gd.closest('.output');\n",
              "if (outputEl) {{\n",
              "    x.observe(outputEl, {childList: true});\n",
              "}}\n",
              "\n",
              "                        })                };                            </script>        </div>\n",
              "</body>\n",
              "</html>"
            ]
          },
          "metadata": {}
        }
      ],
      "source": [
        "\n",
        "displacement = 0.0005  # Small displacement in Angstrom\n",
        "\n",
        "polarizability_tensors = np.zeros((np.size(Vib_freq),3,3))\n",
        "\n",
        "def compute_polarizability(mol, displacement, Normal_modes, mode_idx, sign):\n",
        "    \"\"\"\n",
        "    Compute the polarizability tensor after displacing along a normal mode.\n",
        "    \"\"\"\n",
        "    new_coords = mol.atom_coords()\n",
        "    displacements = Normal_modes[mode_idx]* displacement * sign\n",
        "    new_coords += displacements\n",
        "    mol_c = mol.copy()\n",
        "    mol_c.set_geom_(new_coords, unit='ANG')\n",
        "    displaced_mf = mol.RHF().run()\n",
        "    polar_tensor = Polarizability(displaced_mf).polarizability_with_freq(freq=0)\n",
        "    return np.array(polar_tensor)\n",
        "\n",
        "\n",
        "\n",
        "for mode_idx in range(np.size(Vib_freq)):\n",
        "    forward_tensor = compute_polarizability(mol, displacement,Nrm_mde, mode_idx, +1)\n",
        "    backward_tensor = compute_polarizability(mol, displacement, Nrm_mde, mode_idx, -1)\n",
        "    # Compute finite difference derivative\n",
        "    polarizability_tensors[mode_idx] = (forward_tensor - backward_tensor) / (2 * displacement)\n",
        "\n",
        "\n",
        "raman_intensities = np.zeros(np.size(Vib_freq))\n",
        "\n",
        "for mode_idx, tensor in enumerate(polarizability_tensors):\n",
        "    raman_intensities[mode_idx]=(np.einsum('ij->',tensor))**2\n",
        "\n",
        "def gaussian(x, mu, sig=30):\n",
        "    return np.exp(-np.power(x - mu, 2.) / (2 * np.power(sig, 2.)))\n",
        "\n",
        "\n",
        "x_range = np.linspace(Vib_freq.min()*0.5, Vib_freq.max()*1.1, num=1000)\n",
        "\n",
        "intensity = np.zeros(x_range.size)\n",
        "\n",
        "for e, f in zip(Vib_freq, raman_intensities):\n",
        "    intensity += gaussian(x_range, e) * f\n",
        "\n",
        "# Rough normalization of intensity\n",
        "dx = (x_range[-1] - x_range[0])/x_range.size\n",
        "area = (intensity*dx).sum()\n",
        "intensity /= area\n",
        "\n",
        "# Plot raman intensity versus wave number\n",
        "data = pd.DataFrame({\"wave number (cm^-1)\":x_range, \"Intensity (au)\":intensity})\n",
        "fig = px.line(data, x=\"wave number (cm^-1)\", y=\"Intensity (au)\", markers=True)\n",
        "fig.show()"
      ]
    },
    {
      "cell_type": "markdown",
      "metadata": {
        "id": "QZ4XcB5L4arD"
      },
      "source": [
        "Here I left out other molecule I tested on this code."
      ]
    },
    {
      "cell_type": "code",
      "execution_count": null,
      "metadata": {
        "id": "G7G5bYSJ4arD"
      },
      "outputs": [],
      "source": [
        "# Acetone\n",
        "\n",
        "# moldesc =   'H 2.0471 0.1029 0.7251;C 1.4376 0.0818 -0.1875;H 1.6643 0.9894 -0.7620;H 1.7616 -0.7796 -0.7860;C -0.0377 -0.0035 0.0968;O -0.4797 -0.0446 1.2294;C -0.9294 -0.0345 -1.1150;H     -0.7844      0.8703     -1.7195;H     -0.6856     -0.8986     -1.7467;H     -1.9948     -0.0979     -0.8587'\n",
        "# mol = gto.Mole(atom=moldesc, basis='ccpvdz',verbose=0)\n",
        "# mol.build()\n",
        "\n",
        "\n",
        "# Glycine\n",
        "\n",
        "# atom_c = 'O  1.081302  1.129735  1.195158; O  -.967942  1.693585   .543683; N  2.060859  1.075277 -1.315237;C   .249391  1.494424   .336070; C   .760991  1.733681 -1.081882; H  2.396597  1.201189 -2.305828; H  2.790965  1.427758  -.669398; H  1.985133   .067145 -1.148141; H   .883860  2.805965 -1.234913; H   .041439  1.369111 -1.813528'\n",
        "# mol = gto.Mole(atom = atom_c)\n",
        "# mol.basis = \"ccpvdz\"\n",
        "# mol.verbose=0\n",
        "# mol.build()"
      ]
    }
  ],
  "metadata": {
    "kernelspec": {
      "display_name": "EnvForPyscf",
      "language": "python",
      "name": "python3"
    },
    "language_info": {
      "codemirror_mode": {
        "name": "ipython",
        "version": 3
      },
      "file_extension": ".py",
      "mimetype": "text/x-python",
      "name": "python",
      "nbconvert_exporter": "python",
      "pygments_lexer": "ipython3",
      "version": "3.8.20"
    },
    "colab": {
      "provenance": [],
      "include_colab_link": true
    }
  },
  "nbformat": 4,
  "nbformat_minor": 0
}